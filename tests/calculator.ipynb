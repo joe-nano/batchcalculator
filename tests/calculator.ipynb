{
 "metadata": {
  "name": "",
  "signature": "sha256:a39df0cbd81741ca766f75ae19eacc2f85a393ce0c2aff2641ff108d52b99c37"
 },
 "nbformat": 3,
 "nbformat_minor": 0,
 "worksheets": [
  {
   "cells": [
    {
     "cell_type": "code",
     "collapsed": false,
     "input": [
      "#%load /home/lmentel/Devel/zeocalc/batchcalc/calculator.py"
     ],
     "language": "python",
     "metadata": {},
     "outputs": [],
     "prompt_number": 1
    },
    {
     "cell_type": "code",
     "collapsed": false,
     "input": [
      "'''\n",
      "The MIT License (MIT)\n",
      "\n",
      "Copyright (c) 2014 Lukasz Mentel\n",
      "\n",
      "Permission is hereby granted, free of charge, to any person obtaining a copy\n",
      "of this software and associated documentation files (the \"Software\"), to deal\n",
      "in the Software without restriction, including without limitation the rights\n",
      "to use, copy, modify, merge, publish, distribute, sublicense, and/or sell\n",
      "copies of the Software, and to permit persons to whom the Software is\n",
      "furnished to do so, subject to the following conditions:\n",
      "\n",
      "The above copyright notice and this permission notice shall be included in all\n",
      "copies or substantial portions of the Software.\n",
      "\n",
      "THE SOFTWARE IS PROVIDED \"AS IS\", WITHOUT WARRANTY OF ANY KIND, EXPRESS OR\n",
      "IMPLIED, INCLUDING BUT NOT LIMITED TO THE WARRANTIES OF MERCHANTABILITY,\n",
      "FITNESS FOR A PARTICULAR PURPOSE AND NONINFRINGEMENT. IN NO EVENT SHALL THE\n",
      "AUTHORS OR COPYRIGHT HOLDERS BE LIABLE FOR ANY CLAIM, DAMAGES OR OTHER\n",
      "LIABILITY, WHETHER IN AN ACTION OF CONTRACT, TORT OR OTHERWISE, ARISING FROM,\n",
      "OUT OF OR IN CONNECTION WITH THE SOFTWARE OR THE USE OR OTHER DEALINGS IN THE\n",
      "SOFTWARE.\n",
      "'''\n",
      "\n",
      "__version__ = \"0.2.0\"\n",
      "\n",
      "_minwidth = 15\n",
      "\n",
      "import operator\n",
      "import os\n",
      "import pkg_resources\n",
      "import re\n",
      "import math\n",
      "\n",
      "from numpy.linalg import inv\n",
      "import numpy as np\n",
      "\n",
      "from sqlalchemy import Column, Boolean, Integer, String, Float, create_engine, ForeignKey\n",
      "from sqlalchemy.orm import sessionmaker\n",
      "from sqlalchemy.ext.declarative import declarative_base\n",
      "\n",
      "Base = declarative_base()\n",
      "\n",
      "class Category(Base):\n",
      "    __tablename__ = 'categories'\n",
      "\n",
      "    id        = Column(Integer, primary_key=True)\n",
      "    name      = Column(String)\n",
      "    full_name = Column(String)\n",
      "\n",
      "    def __repr__(self):\n",
      "        return \"<Category(id={i}, name={n}, full_name={f})>\".format(i=self.id, n=self.name, f=self.full_name)\n",
      "\n",
      "class Types(Base):\n",
      "    __tablename__ = 'types'\n",
      "\n",
      "    id   = Column(Integer, primary_key=True)\n",
      "    name = Column(String)\n",
      "\n",
      "    def __repr__(self):\n",
      "        return \"<Types(id={i}, name={n})>\".format(i=self.id, n=self.name)\n",
      "\n",
      "class Reaction(Base):\n",
      "    __tablename__ = 'reactions'\n",
      "\n",
      "    id       = Column(Integer, primary_key=True)\n",
      "    reaction = Column(String)\n",
      "\n",
      "    def __repr__(self):\n",
      "        return \"<Reaction(id={i}, reaction={n})>\".format(i=self.id, n=self.reaction)\n",
      "\n",
      "class Batch(Base):\n",
      "    __tablename__ = 'batch'\n",
      "\n",
      "    id           = Column(Integer, primary_key=True)\n",
      "    reactant_id  = Column(Integer, ForeignKey('chemicals.id'), nullable=False)\n",
      "    component_id = Column(Integer, ForeignKey('components.id'), nullable=False)\n",
      "    reaction_id  = Column(Integer, ForeignKey('reactions.id'), nullable=True)\n",
      "    coefficient  = Column(Float, nullable=True)\n",
      "\n",
      "    def __repr__(self):\n",
      "        return \"<Batch(id={i:>2d}, reactant_id='{n:>5d}', component_id='{z:>5d}', coefficient={c:8.2f})>\".format(\n",
      "                i=self.id, n=self.reactant_id, z=self.component_id, c=self.coefficient)\n",
      "\n",
      "class DBComponent(Base):\n",
      "    '''\n",
      "    Class representing the Component object.\n",
      "        Zeolite component\n",
      "        Template\n",
      "        Zeolite Growth Modifier\n",
      "    '''\n",
      "    __tablename__ = 'components'\n",
      "\n",
      "    id         = Column(Integer, primary_key=True)\n",
      "    name       = Column(String)\n",
      "    formula    = Column(String)\n",
      "    molwt      = Column(Float)\n",
      "    category   = Column(Integer, ForeignKey('categories.id'))\n",
      "    short_name = Column(String)\n",
      "\n",
      "    def __repr__(self):\n",
      "        return \"<DBComponent(id={i:>2d}, name='{n:s}', formula='{f:s}')>\".format(\n",
      "                i=self.id, n=self.name, f=self.formula)\n",
      "\n",
      "class Chemical(Base):\n",
      "    '''\n",
      "    Class representing the Chemical object.\n",
      "    '''\n",
      "    __tablename__ = 'chemicals'\n",
      "\n",
      "    id            = Column(Integer, primary_key=True)\n",
      "    name          = Column(String)\n",
      "    formula       = Column(String)\n",
      "    molwt         = Column(Float)\n",
      "    short_name    = Column(String)\n",
      "    typ           = Column(Integer, ForeignKey('types.id'))\n",
      "    concentration = Column(Float)\n",
      "    cas           = Column(String)\n",
      "\n",
      "    def __repr__(self):\n",
      "        return \"<Chemical(id={i:>2d}, name='{n:s}', formula='{f:s}')>\".format(\n",
      "                i=self.id, n=self.name, f=self.formula)\n",
      "\n",
      "class Reactant(object):\n",
      "\n",
      "    def __init__(self, id=None, name=None, formula=None, molwt=None,\n",
      "                 short_name=None, typ=None, concentration=None, cas=None,\n",
      "                 mass=0.0):\n",
      "\n",
      "        self.id = id\n",
      "        self.name = name\n",
      "        self.formula = formula\n",
      "        self.molwt = float(molwt)\n",
      "        self.short_name = short_name\n",
      "        self.typ = typ\n",
      "        self.concentration = float(concentration)\n",
      "        self.cas = cas\n",
      "        self.mass = float(mass)\n",
      "\n",
      "    def formula_to_tex(self):\n",
      "        return re.sub(ur'(\\d+)', ur'$_{\\1}$', self.formula)\n",
      "\n",
      "    def listctrl_label(self):\n",
      "        if self.short_name != \"\":\n",
      "            res = self.short_name\n",
      "        else:\n",
      "            res = self.formula\n",
      "        return res\n",
      "\n",
      "    def label(self):\n",
      "        if self.short_name != \"\":\n",
      "            res = self.short_name + u\" ({0:>4.1f}\\%)\".format(100*self.concentration)\n",
      "        else:\n",
      "            res = self.formula_to_tex() + u\" ({0:>4.1f}\\%)\".format(100*self.concentration)\n",
      "        return res\n",
      "\n",
      "    def __repr__(self):\n",
      "        return \"<Reactant(id={i:>2d}, name='{n:s}', formula='{f:s}')>\".format(\n",
      "                i=self.id, n=self.name, f=self.formula)\n",
      "\n",
      "class Component(object):\n",
      "\n",
      "    def __init__(self, id=None, name=None, formula=None, molwt=None,\n",
      "                 typ=None, short_name=None, moles=None, category=None):\n",
      "\n",
      "        self.id = id\n",
      "        self.name = name\n",
      "        self.formula = formula\n",
      "        self.molwt = float(molwt)\n",
      "        self.short_name = short_name\n",
      "        self.moles = float(moles)\n",
      "        self.category = category\n",
      "\n",
      "    @property\n",
      "    def mass(self):\n",
      "        return self.moles*self.molwt\n",
      "\n",
      "    def formula_to_tex(self):\n",
      "        return re.sub(ur'(\\d+)', ur'$_{\\1}$', self.formula)\n",
      "\n",
      "    def listctrl_label(self):\n",
      "        if self.short_name != \"\":\n",
      "            res = self.short_name\n",
      "        else:\n",
      "            res = self.formula\n",
      "        return res\n",
      "\n",
      "    def label(self):\n",
      "        if self.short_name != \"\":\n",
      "            res = self.short_name\n",
      "        else:\n",
      "            res = self.formula_to_tex()\n",
      "        return res\n",
      "\n",
      "    def __repr__(self):\n",
      "        return \"<Component(id={i:>2d}, name='{n:>15s}', formula='{f:>15s}', moles={m:8.2f})>\".format(\n",
      "                i=self.id, n=self.name, f=self.formula, m=self.moles)\n",
      "\n",
      "class BatchCalculator(object):\n",
      "\n",
      "    def __init__(self):\n",
      "\n",
      "        # default database path\n",
      "        dbpath = \"/home/lmentel/Devel/zeocalc/batchcalc/data/zeolite.db\"\n",
      "\n",
      "        self.new_dbsession(dbpath)\n",
      "\n",
      "        self.categories = [\"reactant\", \"template\", \"zeolite\", \"zgm\"]\n",
      "        self.lists = [\"components\", \"reactants\"]\n",
      "\n",
      "        # create lists for different categories of\n",
      "        for lst in self.lists:\n",
      "            setattr(self, lst, list())\n",
      "\n",
      "        self.A = list()\n",
      "        self.B = list()\n",
      "        self.X = list()\n",
      "\n",
      "        self.scale_all = 100.0\n",
      "        self.sample_scale = 1.0\n",
      "        self.sample_size = 5.0\n",
      "        self.selections = []\n",
      "\n",
      "    def new_dbsession(self, dbpath):\n",
      "\n",
      "        if hasattr(self, \"session\"):\n",
      "            self.session.close()\n",
      "        engine = create_engine(\"sqlite:///{path:s}\".format(path=dbpath))\n",
      "        DBSession  = sessionmaker(bind=engine)\n",
      "        self.session = DBSession()\n",
      "\n",
      "    def reset(self):\n",
      "        '''\n",
      "        Clear the state of the calculation by reseting all the list and\n",
      "        variables.\n",
      "        '''\n",
      "\n",
      "        self.components = []\n",
      "        self.reactants = []\n",
      "\n",
      "        self.A = []\n",
      "        self.B = []\n",
      "        self.X = []\n",
      "\n",
      "        self.scale_all = 100.0\n",
      "        self.sample_scale = 1.0\n",
      "        self.sample_size = 5.0\n",
      "        self.selections = []\n",
      "\n",
      "    def get_component(self, category=None):\n",
      "\n",
      "        if category not in self.categories:\n",
      "            raise ValueError(\"wrong category in get_component: {}\".format(category))\n",
      "\n",
      "        return self.session.query(DBComponent).\\\n",
      "                filter(DBComponent.category == Category.id).\\\n",
      "                filter(Category.name == category).all()\n",
      "\n",
      "    def get_chemicals(self, showall=False):\n",
      "        if showall:\n",
      "            return self.session.query(Chemical,Types).filter(Chemical.typ == Types.id).all()\n",
      "        else:\n",
      "            res = set()\n",
      "            for item in self.components:\n",
      "                temp = self.session.query(Chemical, Types).join(Batch).\\\n",
      "                           filter(Chemical.typ == Types.id).\\\n",
      "                           filter(Batch.component_id == item.id).all()\n",
      "                res.update(temp)\n",
      "            out = list(res)\n",
      "            return sorted(out, key=lambda x: x[0].id)\n",
      "\n",
      "    def select_item(self, lst, attr, value):\n",
      "        '''\n",
      "        From a list of objects \"lst\" having a common attribute get the index of the\n",
      "        object having the attribute \"attr\" set to \"value\".\n",
      "        '''\n",
      "\n",
      "        if lst not in self.lists:\n",
      "            raise ValueError(\"wrong table in select_item\")\n",
      "\n",
      "        ag = operator.attrgetter(attr)\n",
      "        for item in getattr(self, lst):\n",
      "            if ag(item) == value:\n",
      "                return item\n",
      "        else:\n",
      "            return None\n",
      "\n",
      "    def update_components(self, category, selections):\n",
      "\n",
      "        if any(len(x) != 2 for x in selections):\n",
      "            raise ValueError(\"selections should be tuples of length 2\")\n",
      "\n",
      "        for sitem in selections:\n",
      "            comp, cat = self.session.query(DBComponent, Category).\\\n",
      "                    filter(DBComponent.category == Category.id).\\\n",
      "                    filter(DBComponent.id == sitem[0]).one()\n",
      "\n",
      "            kwargs = {k : v for k, v in comp.__dict__.items() if not k.startswith('_')}\n",
      "            kwargs[\"category\"] = cat.name\n",
      "            if int(sitem[0]) in [x.id for x in self.components]:\n",
      "                # update the number of moles and concentration\n",
      "                sobj = self.select_item(\"components\", 'id', int(sitem[0]))\n",
      "                sobj.moles = float(sitem[1])\n",
      "            else:\n",
      "                kwargs['moles'] = sitem[1]\n",
      "                obj = Component(**kwargs)\n",
      "                self.components.append(obj)\n",
      "\n",
      "        # remove unselected items\n",
      "        selid = [int(x[0]) for x in selections]\n",
      "        cat_items = [x for x in self.components if x.id in selid and x.category == category]\n",
      "        self.components = [x for x in self.components if x.category != category] + cat_items\n",
      "\n",
      "    def update_reactants(self, selections):\n",
      "\n",
      "        if any(len(x) != 2 for x in selections):\n",
      "            raise ValueError(\"selections should be tuples of length 2\")\n",
      "\n",
      "        for sitem in selections:\n",
      "            reac, typ = self.session.query(Chemical, Types).\\\n",
      "                    filter(Chemical.typ==Types.id).\\\n",
      "                    filter(Chemical.id==int(sitem[0])).one()\n",
      "            kwargs = {k : v for k, v in reac.__dict__.items() if not k.startswith('_')}\n",
      "            kwargs[\"typ\"] = typ.name\n",
      "            if int(sitem[0]) in [x.id for x in self.reactants]:\n",
      "                # update the number of moles\n",
      "                sobj = self.select_item(\"reactants\", \"id\", int(sitem[0]))\n",
      "                sobj.concentration = float(sitem[1])\n",
      "            else:\n",
      "                kwargs['concentration'] = sitem[1]\n",
      "                obj = Reactant(**kwargs)\n",
      "                self.reactants.append(obj)\n",
      "\n",
      "        # remove unselected items\n",
      "        selid = [int(x[0]) for x in selections]\n",
      "        self.reactants = [x for x in self.reactants if x.id in selid]\n",
      "\n",
      "    def calculate(self):\n",
      "        '''\n",
      "        Solve the matrix equation X = B^-1 * A\n",
      "        '''\n",
      "\n",
      "        if len(self.components) == 0:\n",
      "            return (1, \"No Zeolite components selected\")\n",
      "\n",
      "        if len(self.reactants) == 0:\n",
      "            return (2, \"No Reactants selected\")\n",
      "\n",
      "        if len(self.components) != len(self.reactants):\n",
      "            return (3, \"Number of zeolite components has to be equal to the \" +\n",
      "                      \"number of reactants. \" +\n",
      "                      \"You entered {0:<2d} zeolite components and {1:<2d} reactants.\".format(\\\n",
      "                              len(self.components), len(self.reactants)))\n",
      "\n",
      "        # TODO: check if all the zomponents have their sources\n",
      "\n",
      "        self.A = self.get_A_matrix()\n",
      "        self.B = self.get_B_matrix()\n",
      "\n",
      "        try:\n",
      "            self.X = np.dot(inv(np.transpose(self.B)), self.A)\n",
      "            # assign calculated masses to the reactants\n",
      "            for reac, x in zip(self.reactants, self.X):\n",
      "                if reac.typ == \"reactant\":\n",
      "                    reac.mass = x/reac.concentration\n",
      "                else:\n",
      "                    reac.mass = x\n",
      "            return (0, \"success\")\n",
      "        except np.linalg.linalg.LinAlgError as err:\n",
      "            if 'Singular matrix' in err.message:\n",
      "                print \"singular matrix\"\n",
      "            else:\n",
      "                print \"some other error in inversion\"\n",
      "            return (-1, err.message)\n",
      "\n",
      "    def get_A_matrix(self):\n",
      "        '''\n",
      "        Compose the [A] matrix with masses of zeolite components.\n",
      "        '''\n",
      "\n",
      "        return np.asarray([z.moles*z.molwt for z in self.components], dtype=float)\n",
      "\n",
      "    def get_B_matrix(self):\n",
      "        '''\n",
      "        Construct and return the batch matrix [B].\n",
      "        '''\n",
      "\n",
      "        B = np.zeros((len(self.reactants), len(self.components)), dtype=float)\n",
      "\n",
      "        for i, reactant in enumerate(self.reactants):\n",
      "            comps = self.session.query(Batch,DBComponent).\\\n",
      "                    filter(Batch.reactant_id == reactant.id).\\\n",
      "                    filter(DBComponent.id==Batch.component_id).all()\n",
      "            wfs = self.get_weight_fractions(i, comps)\n",
      "            for j, comp in enumerate(self.components):\n",
      "                for cid, wf in wfs:\n",
      "                    if comp.id == cid:\n",
      "                        B[i, j] = wf\n",
      "        return B\n",
      "\n",
      "    def get_weight_fractions(self, rindex, comps):\n",
      "        '''\n",
      "        Calculate the weight fractions corresponding to a specific reactant\n",
      "        and coupled zolite componts.\n",
      "\n",
      "        lower case \"m\": mass in grmas\n",
      "        upper case \"M\": molecular weight [gram/mol]\n",
      "        '''\n",
      "\n",
      "        res = []\n",
      "\n",
      "        if self.reactants[rindex].typ == \"mixture\":\n",
      "            for batch, comp in comps:\n",
      "                if comp.formula != \"H2O\":\n",
      "                    res.append((comp.id, self.reactants[rindex].concentration))\n",
      "                else:\n",
      "                    res.append((comp.id, 1 - self.reactants[rindex].concentration))\n",
      "            return res\n",
      "\n",
      "        elif self.reactants[rindex].typ == \"solution\":\n",
      "            if len(comps) > 2:\n",
      "                raise ValueError(\"cannot handle cases of zeoindexes > 2\")\n",
      "\n",
      "            rct = self.reactants[rindex]\n",
      "\n",
      "            h2o = self.session.query(Chemical).filter(Chemical.formula==\"H2O\").one()\n",
      "            M_solv = h2o.molwt\n",
      "\n",
      "            M_solu = rct.molwt\n",
      "\n",
      "            if abs(rct.concentration - 1.0) > 0.0001:\n",
      "                n_solu = M_solu*M_solv/(M_solv + (1.0-rct.concentration)*M_solu/rct.concentration)/M_solu\n",
      "                n_solv = M_solu*M_solv/(M_solu + rct.concentration*M_solv/(1.0-rct.concentration))/M_solv\n",
      "            else:\n",
      "                n_solu = 1.0\n",
      "                n_solv = 0.0\n",
      "\n",
      "            masses = list()\n",
      "\n",
      "            for batch, comp in comps:\n",
      "                if comp.formula != \"H2O\":\n",
      "                    masses.append(batch.coefficient*n_solu*comp.molwt)\n",
      "                else:\n",
      "                    masses.append((batch.coefficient*n_solu + n_solv)*comp.molwt)\n",
      "\n",
      "            tot_mass = sum(masses)\n",
      "            for batch, comp in comps:\n",
      "                if comp.formula != \"H2O\":\n",
      "                    res.append((comp.id, batch.coefficient*n_solu*comp.molwt/tot_mass))\n",
      "                else:\n",
      "                    res.append((comp.id, (batch.coefficient*n_solu + n_solv)*comp.molwt/tot_mass))\n",
      "            return res\n",
      "\n",
      "        elif self.reactants[rindex].typ == \"reactant\":\n",
      "            if len(comps) > 1:\n",
      "                tot_mass = sum([b.coefficient*c.molwt for b, c in comps])\n",
      "                for batch, comp in comps:\n",
      "                    res.append((comp.id, batch.coefficient*comp.molwt/tot_mass))\n",
      "            else:\n",
      "                res.append((comps[0][1].id, 1.0))\n",
      "            return res\n",
      "\n",
      "        else:\n",
      "            raise ValueError(\"Unknown reactant typ: {}\".format(self.reactants[rindex].typ))\n",
      "\n",
      "    def rescale_all(self):\n",
      "        '''\n",
      "        Rescale all the resulting masses by a factor.\n",
      "        '''\n",
      "\n",
      "        res = [(s, s.mass/self.scale_all) for s in self.reactants]\n",
      "        return res\n",
      "\n",
      "    def rescale_to(self, sample_selections):\n",
      "        '''\n",
      "        Rescale all masses by a factor chosen in such a way that the sum of\n",
      "        masses of a selected subset of chemicals is equal to the chose sample\n",
      "        size.\n",
      "        '''\n",
      "\n",
      "        masses = [s.mass for s in self.reactants]\n",
      "        self.sample_scale = sum([masses[i] for i in sample_selections])/float(self.sample_size)\n",
      "        res = [(s, s.mass/self.sample_scale) for s in self.reactants]\n",
      "        return res\n",
      "    \n",
      "    def print_A(self):\n",
      "\n",
      "        width = max([len(c.listctrl_label()) for c in self.components] + [_minwidth])\n",
      "        print \"\\n     {0:*^{w}s}\\n\".format(\"  \"+ \"Composition Vector [C]\" +\"  \", w=width+21)\n",
      "        print \" \"*5 + \"{l:^{wl}}  |{v:^15s}\".format(\n",
      "                    l=\"Formula\", wl=width, v=\"Mass [g]\")\n",
      "        print \" \"*5 + \"-\"*(width+3+15)\n",
      "        for reac in self.reactants:\n",
      "            print \" \"*5+\"{l:>{wl}}  |{v:>15.4f}\".format(\n",
      "                    l=reac.listctrl_label(), wl=width, v=reac.mass)\n",
      "\n",
      "    def print_batch_matrix(self):\n",
      "\n",
      "        lr = len(self.reactants)\n",
      "\n",
      "        rowwidth = max([len(c.listctrl_label()) for c in self.components] + [_minwidth])\n",
      "        colwidth = max([len(r.listctrl_label()) for r in self.reactants] + [_minwidth])\n",
      "\n",
      "        print \"\\n{0}{1:*^{w}s}\\n\".format(\" \"*7, \"  Batch Matrix [B]  \", w=(colwidth+1)*lr+rowwidth)\n",
      "        print \"{}\".format(\" \"*(8+rowwidth))+\"|\".join([\"{0:^{cw}s}\".format(c.listctrl_label(), cw=colwidth) for c in self.components])\n",
      "        print \"{}\".format(\" \"*(7+rowwidth))+\"{}\".format(\"-\"*(colwidth+1)*lr)\n",
      "        for reac, row in zip(self.reactants, self.B):\n",
      "            print \"     {0:>{w}s}  |\".format(reac.listctrl_label(), w=rowwidth)+\"|\".join(\"{0:>{w}.4f}    \".format(x, w=colwidth-4) for x in row)\n",
      "\n",
      "    def parse_formulas(self, string, delimiter=':'):\n",
      "\n",
      "        cre = re.compile(r'(?P<nmol>(-?\\d+\\.\\d+|-?\\d+))?\\s*(?P<formula>[A-Za-z0-9\\(\\)]+)')\n",
      "        result = []\n",
      "        for comp in string.replace(\" \", \"\").split(delimiter):\n",
      "            m = cre.match(comp)\n",
      "            if m:\n",
      "                if m.group('nmol') is None:\n",
      "                    nmol = 1.0\n",
      "                else:\n",
      "                    nmol = float(m.group('nmol'))\n",
      "                result.append((m.group('formula'), nmol))\n",
      "        return result\n"
     ],
     "language": "python",
     "metadata": {},
     "outputs": [],
     "prompt_number": 77
    },
    {
     "cell_type": "code",
     "collapsed": false,
     "input": [
      "m = BatchCalculator()\n",
      "m.get_component(\"zgm\")"
     ],
     "language": "python",
     "metadata": {},
     "outputs": [
      {
       "metadata": {},
       "output_type": "pyout",
       "prompt_number": 78,
       "text": [
        "[<DBComponent(id=10, name='ethanol', formula='C2H5OH')>,\n",
        " <DBComponent(id=11, name='ethylene glycol', formula='C2H6O2')>,\n",
        " <DBComponent(id=12, name='1-propanol', formula='C3H7OH')>,\n",
        " <DBComponent(id=13, name='2-propanol', formula='C3H7OH')>,\n",
        " <DBComponent(id=14, name='glycerol', formula='C3H8O3')>,\n",
        " <DBComponent(id=15, name='1-butanol', formula='C4H9OH')>,\n",
        " <DBComponent(id=16, name='pentaerythritol', formula='C5H12O4')>,\n",
        " <DBComponent(id=17, name='dipentaerythritol', formula='(HOCH2)3CCH2OCH2C(CH2OH)3')>,\n",
        " <DBComponent(id=18, name='fructose', formula='C6H12O6')>,\n",
        " <DBComponent(id=19, name='sucrose', formula='C12H22O11')>,\n",
        " <DBComponent(id=20, name='maltose', formula='C12H22O11')>]"
       ]
      }
     ],
     "prompt_number": 78
    },
    {
     "cell_type": "code",
     "collapsed": false,
     "input": [
      "m.reset()"
     ],
     "language": "python",
     "metadata": {},
     "outputs": [],
     "prompt_number": 50
    },
    {
     "cell_type": "code",
     "collapsed": false,
     "input": [
      "rows = set(m.session.query(DBComponent, Batch).filter(Batch.reactant_id==5).filter(DBComponent.id==Batch.component_id).all())\n",
      "print rows"
     ],
     "language": "python",
     "metadata": {},
     "outputs": [
      {
       "output_type": "stream",
       "stream": "stdout",
       "text": [
        "set([(<DBComponent(id= 3, name='aluminium oxide', formula='Al2O3')>, <Batch(id= 9, reactant_id='    5', component_id='    3', coefficient=    0.50)>), (<DBComponent(id= 5, name='water', formula='H2O')>, <Batch(id=10, reactant_id='    5', component_id='    5', coefficient=   -1.50)>), (<DBComponent(id=13, name='2-propanol', formula='C3H7OH')>, <Batch(id=11, reactant_id='    5', component_id='   13', coefficient=    3.00)>)])\n"
       ]
      }
     ],
     "prompt_number": 51
    },
    {
     "cell_type": "code",
     "collapsed": false,
     "input": [
      "lrows = list(rows)\n",
      "for item in lrows:\n",
      "    print item\n",
      "lrows.sort(key=lambda x: x[0].id, reverse=True)\n",
      "print \n",
      "for item in lrows:\n",
      "    print item"
     ],
     "language": "python",
     "metadata": {},
     "outputs": [
      {
       "output_type": "stream",
       "stream": "stdout",
       "text": [
        "(<DBComponent(id= 3, name='aluminium oxide', formula='Al2O3')>, <Batch(id= 9, reactant_id='    5', component_id='    3', coefficient=    0.50)>)\n",
        "(<DBComponent(id= 5, name='water', formula='H2O')>, <Batch(id=10, reactant_id='    5', component_id='    5', coefficient=   -1.50)>)\n",
        "(<DBComponent(id=13, name='2-propanol', formula='C3H7OH')>, <Batch(id=11, reactant_id='    5', component_id='   13', coefficient=    3.00)>)\n",
        "\n",
        "(<DBComponent(id=13, name='2-propanol', formula='C3H7OH')>, <Batch(id=11, reactant_id='    5', component_id='   13', coefficient=    3.00)>)\n",
        "(<DBComponent(id= 5, name='water', formula='H2O')>, <Batch(id=10, reactant_id='    5', component_id='    5', coefficient=   -1.50)>)\n",
        "(<DBComponent(id= 3, name='aluminium oxide', formula='Al2O3')>, <Batch(id= 9, reactant_id='    5', component_id='    3', coefficient=    0.50)>)\n"
       ]
      }
     ],
     "prompt_number": 52
    },
    {
     "cell_type": "code",
     "collapsed": false,
     "input": [
      "m.reset()"
     ],
     "language": "python",
     "metadata": {},
     "outputs": [],
     "prompt_number": 53
    },
    {
     "cell_type": "code",
     "collapsed": false,
     "input": [
      "m.update_components(\"zeolites\", [(1, 4.8), (2, 1.0), (3, 1.0), (4, 15.8), (5, 249.5)])\n",
      "m.components"
     ],
     "language": "python",
     "metadata": {},
     "outputs": [
      {
       "metadata": {},
       "output_type": "pyout",
       "prompt_number": 79,
       "text": [
        "[<Component(id= 1, name='   sodium oxide', formula='           Na2O', moles=    4.80)>,\n",
        " <Component(id= 2, name='potassium oxide', formula='            K2O', moles=    1.00)>,\n",
        " <Component(id= 3, name='aluminium oxide', formula='          Al2O3', moles=    1.00)>,\n",
        " <Component(id= 4, name='silicone dioxide', formula='           SiO2', moles=   15.80)>,\n",
        " <Component(id= 5, name='          water', formula='            H2O', moles=  249.50)>]"
       ]
      }
     ],
     "prompt_number": 79
    },
    {
     "cell_type": "code",
     "collapsed": false,
     "input": [
      "m.update_reactants([(1, 0.98), (2, 0.87), (5, 1.0), (9, 1.0), (10, 1.0)])\n",
      "m.reactants"
     ],
     "language": "python",
     "metadata": {},
     "outputs": [
      {
       "metadata": {},
       "output_type": "pyout",
       "prompt_number": 80,
       "text": [
        "[<Reactant(id= 1, name='sodium hydroxide', formula='NaOH')>,\n",
        " <Reactant(id= 2, name='potassium hydroxide', formula='KOH')>,\n",
        " <Reactant(id= 5, name='aluminium isopropoxide', formula='Al(OC3H7)3')>,\n",
        " <Reactant(id= 9, name='fumed silica', formula='SiO2')>,\n",
        " <Reactant(id=10, name='water', formula='H2O')>]"
       ]
      }
     ],
     "prompt_number": 80
    },
    {
     "cell_type": "code",
     "collapsed": false,
     "input": [
      "y = m.get_A_matrix()"
     ],
     "language": "python",
     "metadata": {},
     "outputs": [],
     "prompt_number": 81
    },
    {
     "cell_type": "code",
     "collapsed": false,
     "input": [
      "X = m.get_B_matrix()\n",
      "X"
     ],
     "language": "python",
     "metadata": {},
     "outputs": [
      {
       "metadata": {},
       "output_type": "pyout",
       "prompt_number": 82,
       "text": [
        "array([[ 0.75929763,  0.        ,  0.        ,  0.        ,  0.24070237],\n",
        "       [ 0.        ,  0.73032389,  0.        ,  0.        ,  0.26967611],\n",
        "       [ 0.        ,  0.        ,  0.24960577,  0.        , -0.13230604],\n",
        "       [ 0.        ,  0.        ,  0.        ,  1.        ,  0.        ],\n",
        "       [ 0.        ,  0.        ,  0.        ,  0.        ,  1.        ]])"
       ]
      }
     ],
     "prompt_number": 82
    },
    {
     "cell_type": "code",
     "collapsed": false,
     "input": [
      "m.calculate()\n",
      "m.X"
     ],
     "language": "python",
     "metadata": {},
     "outputs": [
      {
       "metadata": {},
       "output_type": "pyout",
       "prompt_number": 83,
       "text": [
        "array([  391.80803265,   128.9783908 ,   408.48928   ,   949.33194   ,\n",
        "        4419.74648854])"
       ]
      }
     ],
     "prompt_number": 83
    },
    {
     "cell_type": "code",
     "collapsed": false,
     "input": [
      "m.print_A()"
     ],
     "language": "python",
     "metadata": {},
     "outputs": [
      {
       "output_type": "stream",
       "stream": "stdout",
       "text": [
        "\n",
        "     *****  Composition Vector [C]  *****\n",
        "\n",
        "         Formula      |   Mass [g]    \n",
        "     ---------------------------------\n",
        "                NaOH  |       391.8080\n",
        "                 KOH  |       128.9784\n",
        "           Al(iPrO)3  |       408.4893\n",
        "                SiO2  |       949.3319\n",
        "                 H2O  |      4419.7465\n"
       ]
      }
     ],
     "prompt_number": 84
    },
    {
     "cell_type": "code",
     "collapsed": false,
     "input": [
      "m.print_batch_matrix()"
     ],
     "language": "python",
     "metadata": {},
     "outputs": [
      {
       "output_type": "stream",
       "stream": "stdout",
       "text": [
        "\n",
        "       *************************************  Batch Matrix [B]  **************************************\n",
        "\n",
        "                            Na2O      |      K2O      |     Al2O3     |     SiO2      |      H2O      \n",
        "                      --------------------------------------------------------------------------------\n",
        "                NaOH  |     0.7593    |     0.0000    |     0.0000    |     0.0000    |     0.2407    \n",
        "                 KOH  |     0.0000    |     0.7303    |     0.0000    |     0.0000    |     0.2697    \n",
        "           Al(iPrO)3  |     0.0000    |     0.0000    |     0.2496    |     0.0000    |    -0.1323    \n",
        "                SiO2  |     0.0000    |     0.0000    |     0.0000    |     1.0000    |     0.0000    \n",
        "                 H2O  |     0.0000    |     0.0000    |     0.0000    |     0.0000    |     1.0000    \n"
       ]
      }
     ],
     "prompt_number": 60
    },
    {
     "cell_type": "code",
     "collapsed": false,
     "input": [
      "m.parse_formulas(\"18.0H2O:34SiO2:88Na2O\", delimiter=\":\")"
     ],
     "language": "python",
     "metadata": {},
     "outputs": [
      {
       "metadata": {},
       "output_type": "pyout",
       "prompt_number": 85,
       "text": [
        "[('H2O', 18.0), ('SiO2', 34.0), ('Na2O', 88.0)]"
       ]
      }
     ],
     "prompt_number": 85
    },
    {
     "cell_type": "code",
     "collapsed": false,
     "input": [
      "from numpy.linalg import lstsq, solve\n",
      "solve(X.T, y)"
     ],
     "language": "python",
     "metadata": {},
     "outputs": [
      {
       "metadata": {},
       "output_type": "pyout",
       "prompt_number": 49,
       "text": [
        "array([  128.9783908 ,   391.80803265,  4419.74648854,   408.48928   ,\n",
        "         949.33194   ])"
       ]
      }
     ],
     "prompt_number": 49
    },
    {
     "cell_type": "code",
     "collapsed": false,
     "input": [
      "m.reactants"
     ],
     "language": "python",
     "metadata": {},
     "outputs": [
      {
       "metadata": {},
       "output_type": "pyout",
       "prompt_number": 31,
       "text": [
        "[<Reactant(id= 2, name='potassium hydroxide', formula='KOH')>,\n",
        " <Reactant(id=10, name='water', formula='H2O')>,\n",
        " <Reactant(id= 1, name='sodium hydroxide', formula='NaOH')>,\n",
        " <Reactant(id= 5, name='aluminium isopropoxide', formula='Al(OC3H7)3')>,\n",
        " <Reactant(id= 9, name='fumed silica', formula='SiO2')>]"
       ]
      }
     ],
     "prompt_number": 31
    },
    {
     "cell_type": "code",
     "collapsed": false,
     "input": [
      "m.calculate()"
     ],
     "language": "python",
     "metadata": {},
     "outputs": [
      {
       "metadata": {},
       "output_type": "pyout",
       "prompt_number": 32,
       "text": [
        "(0, 'success')"
       ]
      }
     ],
     "prompt_number": 32
    },
    {
     "cell_type": "code",
     "collapsed": false,
     "input": [
      "m.X"
     ],
     "language": "python",
     "metadata": {},
     "outputs": [
      {
       "metadata": {},
       "output_type": "pyout",
       "prompt_number": 33,
       "text": [
        "array([  128.9783908 ,  4419.74648854,   391.80803265,   408.48928   ,\n",
        "         949.33194   ])"
       ]
      }
     ],
     "prompt_number": 33
    },
    {
     "cell_type": "code",
     "collapsed": false,
     "input": [
      "m.B"
     ],
     "language": "python",
     "metadata": {},
     "outputs": [
      {
       "metadata": {},
       "output_type": "pyout",
       "prompt_number": 34,
       "text": [
        "array([[ 0.73032389,  0.        ,  0.        ,  0.26967611,  0.        ],\n",
        "       [ 0.        ,  0.        ,  0.        ,  1.        ,  0.        ],\n",
        "       [ 0.        ,  0.        ,  0.        ,  0.24070237,  0.75929763],\n",
        "       [ 0.        ,  0.24960577,  0.        , -0.13230604,  0.        ],\n",
        "       [ 0.        ,  0.        ,  1.        ,  0.        ,  0.        ]])"
       ]
      }
     ],
     "prompt_number": 34
    },
    {
     "cell_type": "code",
     "collapsed": false,
     "input": [
      "dbpath = \"/home/lmentel/Devel/zeocalc/batchcalc/data/zeolite.db\"\n",
      "engine = create_engine(\"sqlite:///{path:s}\".format(path=dbpath))\n",
      "DBSession  = sessionmaker(bind=engine)\n",
      "session = DBSession()"
     ],
     "language": "python",
     "metadata": {},
     "outputs": [],
     "prompt_number": 87
    },
    {
     "cell_type": "code",
     "collapsed": false,
     "input": [
      "session.query(DBComponent).\\\n",
      "                filter(DBComponent.category == Category.id).\\\n",
      "                filter(Category.name == 'zeolite').all()\n"
     ],
     "language": "python",
     "metadata": {},
     "outputs": [
      {
       "metadata": {},
       "output_type": "pyout",
       "prompt_number": 10,
       "text": [
        "[<DBComponent(id=15, name='sodium oxide', formula='Na2O')>,\n",
        " <DBComponent(id=16, name='potassium oxide', formula='K2O')>,\n",
        " <DBComponent(id=17, name='aluminium oxide', formula='Al2O3')>,\n",
        " <DBComponent(id=18, name='silicone dioxide', formula='SiO2')>,\n",
        " <DBComponent(id=19, name='water', formula='H2O')>]"
       ]
      }
     ],
     "prompt_number": 10
    },
    {
     "cell_type": "code",
     "collapsed": false,
     "input": [
      "session.query(Chemical).join(Batch).filter(Batch.component_id == 1).all()"
     ],
     "language": "python",
     "metadata": {},
     "outputs": [
      {
       "metadata": {},
       "output_type": "pyout",
       "prompt_number": 89,
       "text": [
        "[<Chemical(id= 1, name='sodium hydroxide', formula='NaOH')>,\n",
        " <Chemical(id= 3, name='sodium aluminate', formula='Na2Al2O4')>]"
       ]
      }
     ],
     "prompt_number": 89
    },
    {
     "cell_type": "code",
     "collapsed": false,
     "input": [],
     "language": "python",
     "metadata": {},
     "outputs": []
    }
   ],
   "metadata": {}
  }
 ]
}