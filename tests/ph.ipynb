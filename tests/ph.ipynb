{
 "metadata": {
  "name": "",
  "signature": "sha256:3d0522b04cf4c606713f2a819f162c7281385c74a019f944028b5cf25791f42e"
 },
 "nbformat": 3,
 "nbformat_minor": 0,
 "worksheets": [
  {
   "cells": [
    {
     "cell_type": "code",
     "collapsed": false,
     "input": [
      "import math"
     ],
     "language": "python",
     "metadata": {},
     "outputs": [],
     "prompt_number": 1
    },
    {
     "cell_type": "code",
     "collapsed": false,
     "input": [
      "class Reactant(object):\n",
      "    \n",
      "    def __init__(self, formula=None, molwt=None, mass=None, state=None, electrolyte=None, density=None, pk=None):\n",
      "        self.formula = formula\n",
      "        self.molwt = molwt\n",
      "        self.mass = mass\n",
      "        self.state = state\n",
      "        self.electrolyte = electrolyte\n",
      "        self.density = density\n",
      "        self.pk = pk"
     ],
     "language": "python",
     "metadata": {},
     "outputs": [],
     "prompt_number": 3
    },
    {
     "cell_type": "code",
     "collapsed": false,
     "input": [
      "def ph(reactants):\n",
      "    '''\n",
      "    lst of object having following attributes:\n",
      "        * formula\n",
      "        * molwt\n",
      "        * state\n",
      "        * electrolyte\n",
      "        * density\n",
      "        * pk\n",
      "    '''\n",
      "\n",
      "    volume    = 0.0\n",
      "    C_Hplus   = 0.0\n",
      "    C_OHminus = 0.0\n",
      "\n",
      "    for reac in reactants:\n",
      "        if reac.state == \"solid\" or reac.state == \"gel\" or reac.formula == \"H2O\":\n",
      "            volume += reac.mass/reac.density/1000.0\n",
      "    print \"Volume = \", volume\n",
      "    \n",
      "    for reac in reactants:\n",
      "        if reac.pk >  10.0:      # strong electrolyte\n",
      "            if reac.electrolyte == \"acid\":\n",
      "                C_Hplus += reac.mass/reac.molwt/volume\n",
      "            elif reac.electrolyte == \"base\":\n",
      "                C_OHminus += reac.mass/reac.molwt/volume\n",
      "        else:                   # weak electrolyte\n",
      "            if reac.electrolyte == \"acid\":\n",
      "                C_Hplus += math.sqrt(math.exp(-1.0*reac.pk)*reac.mass/reac.molwt/volume)\n",
      "            elif reac.electrolyte == \"base\":\n",
      "                C_OHminus += math.sqrt(math.exp(-1.0*reac.pk)*reac.mass/reac.molwt/volume)\n",
      "\n",
      "    if C_Hplus > C_OHminus:\n",
      "        pH = -1.0*math.log(C_Hplus - C_OHminus, 10)\n",
      "    else:\n",
      "        pOH = -1.0*math.log(C_OHminus - C_Hplus, 10)\n",
      "        pH = 14.0 - pOH\n",
      "    return pH"
     ],
     "language": "python",
     "metadata": {},
     "outputs": [],
     "prompt_number": 25
    },
    {
     "cell_type": "code",
     "collapsed": false,
     "input": [
      "naoh = Reactant(formula=\"NaOH\", molwt=40.00, mass=40.0, state=\"solid\", electrolyte=\"base\", density=2.13, pk=10)\n",
      "koh = Reactant(formula=\"KOH\", molwt=56.11, mass=10.0, state=\"solid\", electrolyte=\"base\", density=2.044, pk=10)\n",
      "h2o = Reactant(formula=\"H2O\", molwt=18.02, mass=9970.0, state=\"liquid\", electrolyte=\"neutral\", density=0.9970, pk=10)\n",
      "\n",
      "reactants = [naoh, h2o]"
     ],
     "language": "python",
     "metadata": {},
     "outputs": [],
     "prompt_number": 27
    },
    {
     "cell_type": "code",
     "collapsed": false,
     "input": [
      "print \"pH = {0:8.4f}\".format(ph(reactants))"
     ],
     "language": "python",
     "metadata": {},
     "outputs": [
      {
       "output_type": "stream",
       "stream": "stdout",
       "text": [
        "Volume =  10.0187793427\n",
        "pH =  12.9992\n"
       ]
      }
     ],
     "prompt_number": 24
    },
    {
     "cell_type": "code",
     "collapsed": false,
     "input": [],
     "language": "python",
     "metadata": {},
     "outputs": []
    }
   ],
   "metadata": {}
  }
 ]
}