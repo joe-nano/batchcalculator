{
 "metadata": {
  "name": "",
  "signature": "sha256:cbf29d2b725d63417ac689a3f6d6a106da3d8d61f87433535ef495afc034cd0f"
 },
 "nbformat": 3,
 "nbformat_minor": 0,
 "worksheets": [
  {
   "cells": [
    {
     "cell_type": "code",
     "collapsed": false,
     "input": [
      "import operator\n",
      "import os\n",
      "import re\n",
      "import sys\n",
      "\n",
      "from numpy.linalg import solve, lstsq\n",
      "import numpy as np\n",
      "\n",
      "from sqlalchemy import orm, Column, Integer, String, Float, create_engine, ForeignKey\n",
      "from sqlalchemy.orm import sessionmaker, relationship, backref\n",
      "from sqlalchemy.ext.declarative import declarative_base\n",
      "from sqlalchemy.ext.associationproxy import association_proxy\n",
      "from sqlalchemy.ext.hybrid import hybrid_property, hybrid_method\n",
      "\n",
      "_minwidth = 15\n",
      "\n",
      "Base = declarative_base()\n",
      "\n",
      "class BaseChemical(object):\n",
      "\n",
      "    def formula_to_tex(self):\n",
      "        '''\n",
      "        Convert the formula string to tex string.\n",
      "        '''\n",
      "        return re.sub(ur'(\\d+)', ur'$_{\\1}$', self.formula)\n",
      "    \n",
      "    def formula_to_html(self):\n",
      "        '''\n",
      "        Convert the formula string to html string.\n",
      "        '''\n",
      "        return re.sub(ur'(\\d+)', ur'<sub>\\1</sub>', self.formula)\n",
      "    \n",
      "    def listctrl_label(self):\n",
      "        '''\n",
      "        Return the string to be displayed in the ListCtrl's.\n",
      "        '''\n",
      "        if self.is_undefined(self.short_name):\n",
      "            res = self.name\n",
      "        else:\n",
      "            res = self.short_name\n",
      "        return res\n",
      "    \n",
      "    def label(self):\n",
      "        '''\n",
      "        Return a label to be used in printable tables (tex, html).\n",
      "        '''\n",
      "        if self.is_undefined(self.short_name):\n",
      "            res = self.formula_to_tex() + u\" ({0:>4.1f}\\%)\".format(100*self.concentration)\n",
      "        else:\n",
      "            res = self.short_name + u\" ({0:>4.1f}\\%)\".format(100*self.concentration)\n",
      "        return res\n",
      "\n",
      "    @staticmethod\n",
      "    def is_undefined(item):\n",
      "        if item is None or item.lower() in [\"\", \"null\", \"none\"]:\n",
      "            return True\n",
      "        else:\n",
      "            return False\n",
      "    \n",
      "class Category(Base):\n",
      "    __tablename__ = 'categories'\n",
      "\n",
      "    id        = Column(Integer, primary_key=True)\n",
      "    name      = Column(String, nullable=False)\n",
      "    full_name = Column(String)\n",
      "\n",
      "    def __repr__(self):\n",
      "        return \"<Category(id={i}, name={n}, full_name={f})>\".format(i=self.id,\n",
      "                n=self.name, f=self.full_name)\n",
      "\n",
      "class Electrolyte(Base):\n",
      "    __tablename__ = 'electrolytes'\n",
      "\n",
      "    id   = Column(Integer, primary_key=True)\n",
      "    name = Column(String, nullable=False)\n",
      "\n",
      "    def __repr__(self):\n",
      "        return \"<Electrolyte(id={i}, form={n})>\".format(i=self.id, n=self.name)\n",
      "\n",
      "class PhysicalForm(Base):\n",
      "    __tablename__ = 'physical_forms'\n",
      "\n",
      "    id   = Column(Integer, primary_key=True)\n",
      "    form = Column(String, nullable=False)\n",
      "\n",
      "    def __repr__(self):\n",
      "        return \"<PhysicalForm(id={i}, form={n})>\".format(i=self.id, n=self.form)\n",
      "\n",
      "class Kind(Base):\n",
      "    __tablename__ = 'kinds'\n",
      "\n",
      "    id   = Column(Integer, primary_key=True)\n",
      "    name = Column(String, nullable=False)\n",
      "\n",
      "    def __repr__(self):\n",
      "        return \"<Kind(id={i}, name={n})>\".format(i=self.id, n=self.name)\n",
      "\n",
      "class Reaction(Base):\n",
      "    __tablename__ = 'reactions'\n",
      "\n",
      "    id       = Column(Integer, primary_key=True)\n",
      "    reaction = Column(String, nullable=False)\n",
      "\n",
      "    def __repr__(self):\n",
      "        return \"<Reaction(id={i}, reaction={n})>\".format(i=self.id, n=self.reaction)\n",
      "\n",
      "class Batch(Base):\n",
      "    __tablename__ = 'batch'\n",
      "\n",
      "    id           = Column(Integer, primary_key=True)\n",
      "    chemical_id  = Column(Integer, ForeignKey('chemicals.id'), nullable=False)\n",
      "    component_id = Column(Integer, ForeignKey('components.id'), nullable=False)\n",
      "    reaction_id  = Column(Integer, ForeignKey('reactions.id'), nullable=True)\n",
      "    coefficient  = Column(Float, nullable=True)\n",
      "    \n",
      "    chemical = relationship(\"Chemical\")\n",
      "    component = relationship(\"Component\")\n",
      "    reaction= relationship(\"Reaction\")\n",
      "\n",
      "    def __repr__(self):\n",
      "        return \"<Batch(id={i:>2d}, chemical_id='{n:>5d}', component_id='{z:>5d}', coefficient={c:8.2f})>\".format(\n",
      "                i=self.id, n=self.chemical_id, z=self.component_id, c=self.coefficient)\n",
      "\n",
      "class Component(BaseChemical, Base):\n",
      "    '''\n",
      "    Class representing the Component object. The component can belong to one of\n",
      "    the 3 categories:\n",
      "        * Zeolite component\n",
      "        * Template\n",
      "        * Zeolite Growth Modifier\n",
      "    '''\n",
      "    __tablename__ = 'components'\n",
      "\n",
      "    id          = Column(Integer, primary_key=True)\n",
      "    name        = Column(String, nullable=False)\n",
      "    formula     = Column(String, nullable=False)\n",
      "    molwt       = Column(Float, nullable=False)\n",
      "    short_name  = Column(String)\n",
      "\n",
      "    _category_id = Column(\"category_id\", Integer, ForeignKey('categories.id'))\n",
      "    _category = relationship(\"Category\")\n",
      "    category = association_proxy(\"_category\", \"name\")\n",
      "\n",
      "    @orm.reconstructor\n",
      "    def init_on_load(self):\n",
      "        self.moles = 0.0\n",
      "    \n",
      "    @hybrid_property\n",
      "    def mass(self):\n",
      "        return self.moles*self.molwt\n",
      "    \n",
      "    def __repr__(self):\n",
      "        return \"<Component(id={i:>2d}, name='{n:s}', formula='{f:s}')>\".format(\n",
      "                i=self.id, n=self.name, f=self.formula)\n",
      "\n",
      "class Chemical(BaseChemical, Base):\n",
      "    '''\n",
      "    Class representing the Chemical object, (off the shelf reactants).\n",
      "    '''\n",
      "    __tablename__ = 'chemicals'\n",
      "\n",
      "    id            = Column(Integer, primary_key=True)\n",
      "    name          = Column(String, nullable=False)\n",
      "    formula       = Column(String, nullable=False)\n",
      "    molwt         = Column(Float, nullable=False)\n",
      "    short_name    = Column(String)\n",
      "    concentration = Column(Float)\n",
      "    cas           = Column(String)\n",
      "    density       = Column(Float)\n",
      "    pk            = Column(Float)\n",
      "    smiles        = Column(String)\n",
      "    \n",
      "    _kind_id       = Column(\"kind_id\", Integer, ForeignKey('kinds.id'))\n",
      "    _kind = relationship(\"Kind\")\n",
      "    kind = association_proxy(\"_kind\", \"name\")\n",
      "    \n",
      "    _electrolyte_id = Column(\"electrolyte_id\", Integer, ForeignKey('electrolytes.id'))\n",
      "    _electrolyte = relationship(\"Electrolyte\")\n",
      "    electrolyte = association_proxy(\"_electrolyte\", \"name\")\n",
      "    \n",
      "    _physical_form_id = Column(\"physical_form_id\", Integer, ForeignKey('physical_forms.id'))\n",
      "    _physical_form = relationship(\"PhysicalForm\")\n",
      "    physical_form = association_proxy(\"_physical_form\", \"form\")\n",
      "        \n",
      "    @orm.reconstructor\n",
      "    def init_on_load(self):\n",
      "        self.mass = 0.0\n",
      "        \n",
      "    @hybrid_property\n",
      "    def moles(self):\n",
      "        return self.mass/self.molwt\n",
      "\n",
      "    @hybrid_property\n",
      "    def volume(self):\n",
      "        return self.mass/self.density\n",
      "    \n",
      "    def __repr__(self):\n",
      "        return \"<Chemical(id={i:>2d}, name='{n:s}', formula='{f:s}')>\".format(\n",
      "                i=self.id, n=self.name, f=self.formula)"
     ],
     "language": "python",
     "metadata": {},
     "outputs": [],
     "prompt_number": 1
    },
    {
     "cell_type": "code",
     "collapsed": false,
     "input": [
      "engine = create_engine(\"sqlite:///{path:s}\".format(path=\"zeolite.db\"))\n",
      "DBSession  = sessionmaker(bind=engine)\n",
      "dbsession = DBSession()"
     ],
     "language": "python",
     "metadata": {},
     "outputs": [],
     "prompt_number": 43
    },
    {
     "cell_type": "code",
     "collapsed": false,
     "input": [
      "naoh = dbsession.query(Chemical).filter(Chemical.name == \"water\").one()"
     ],
     "language": "python",
     "metadata": {},
     "outputs": [],
     "prompt_number": 44
    },
    {
     "cell_type": "code",
     "collapsed": false,
     "input": [
      "naoh.kind"
     ],
     "language": "python",
     "metadata": {},
     "outputs": [
      {
       "metadata": {},
       "output_type": "pyout",
       "prompt_number": 45,
       "text": [
        "u'reactant'"
       ]
      }
     ],
     "prompt_number": 45
    },
    {
     "cell_type": "code",
     "collapsed": false,
     "input": [
      "naoh.moles"
     ],
     "language": "python",
     "metadata": {},
     "outputs": [
      {
       "metadata": {},
       "output_type": "pyout",
       "prompt_number": 5,
       "text": [
        "0.6852546738309871"
       ]
      }
     ],
     "prompt_number": 5
    },
    {
     "cell_type": "code",
     "collapsed": false,
     "input": [
      "na2o = dbsession.query(Component).first()"
     ],
     "language": "python",
     "metadata": {},
     "outputs": [],
     "prompt_number": 6
    },
    {
     "cell_type": "code",
     "collapsed": false,
     "input": [
      "na2o._category.full_name"
     ],
     "language": "python",
     "metadata": {},
     "outputs": [
      {
       "metadata": {},
       "output_type": "pyout",
       "prompt_number": 7,
       "text": [
        "u'zeolite component'"
       ]
      }
     ],
     "prompt_number": 7
    },
    {
     "cell_type": "code",
     "collapsed": false,
     "input": [
      "b = dbsession.query(Batch).first()"
     ],
     "language": "python",
     "metadata": {},
     "outputs": [],
     "prompt_number": 8
    },
    {
     "cell_type": "code",
     "collapsed": false,
     "input": [
      "b.component.name"
     ],
     "language": "python",
     "metadata": {},
     "outputs": [
      {
       "metadata": {},
       "output_type": "pyout",
       "prompt_number": 9,
       "text": [
        "u'sodium oxide'"
       ]
      }
     ],
     "prompt_number": 9
    },
    {
     "cell_type": "code",
     "collapsed": false,
     "input": [
      "petp = Chemical(name=\"pentaerythritol\", formula=\"C5H12O4\", molwt=136.15, short_name=\"PETP\", concentration=0.98, cas=\"115-77-5\",\n",
      "                density=1.399, pk=14.1)"
     ],
     "language": "python",
     "metadata": {},
     "outputs": [],
     "prompt_number": 10
    },
    {
     "cell_type": "code",
     "collapsed": false,
     "input": [
      "petp._kind = dbsession.query(Kind).get(3)"
     ],
     "language": "python",
     "metadata": {},
     "outputs": [],
     "prompt_number": 11
    },
    {
     "cell_type": "code",
     "collapsed": false,
     "input": [
      "petp._kind"
     ],
     "language": "python",
     "metadata": {},
     "outputs": [
      {
       "metadata": {},
       "output_type": "pyout",
       "prompt_number": 12,
       "text": [
        "<Kind(id=3, name=reactant)>"
       ]
      }
     ],
     "prompt_number": 12
    },
    {
     "cell_type": "code",
     "collapsed": false,
     "input": [
      "petp._physical_form = dbsession.query(PhysicalForm).get(1)"
     ],
     "language": "python",
     "metadata": {},
     "outputs": [],
     "prompt_number": 13
    },
    {
     "cell_type": "code",
     "collapsed": false,
     "input": [
      "petp._physical_form"
     ],
     "language": "python",
     "metadata": {},
     "outputs": [
      {
       "metadata": {},
       "output_type": "pyout",
       "prompt_number": 14,
       "text": [
        "<PhysicalForm(id=1, form=crystals)>"
       ]
      }
     ],
     "prompt_number": 14
    },
    {
     "cell_type": "code",
     "collapsed": false,
     "input": [
      "petp = dbsession.query(Chemical).get(21)\n",
      "dbsession.delete(petp)\n",
      "dbsession.query(Chemical).all()"
     ],
     "language": "python",
     "metadata": {},
     "outputs": [
      {
       "metadata": {},
       "output_type": "pyout",
       "prompt_number": 58,
       "text": [
        "[<Chemical(id= 1, name='sodium hydroxide', formula='NaOH')>,\n",
        " <Chemical(id= 2, name='potassium hydroxide', formula='KOH')>,\n",
        " <Chemical(id= 3, name='sodium aluminate', formula='Na2Al2O4')>,\n",
        " <Chemical(id= 4, name='aluminium hydroxide', formula='Al(OH)3')>,\n",
        " <Chemical(id= 5, name='aluminium isopropoxide', formula='Al(OC3H7)3')>,\n",
        " <Chemical(id= 6, name='aluminum sulfate hexadecahydrate', formula='Al2(SO4)3*18H2O')>,\n",
        " <Chemical(id= 7, name='colloidal silica AM-30', formula='SiO2')>,\n",
        " <Chemical(id= 8, name='colloidal silica HS-40', formula='SiO2')>,\n",
        " <Chemical(id= 9, name='fumed silica', formula='SiO2')>,\n",
        " <Chemical(id=10, name='water', formula='H2O')>,\n",
        " <Chemical(id=11, name='tetramethylammonium chloride', formula='(CH3)4NCl')>,\n",
        " <Chemical(id=12, name='tetramethylammonium hydroxide pentahydride', formula='(CH3)4NOH*5H2O')>,\n",
        " <Chemical(id=13, name='hexamethylenediamine', formula='NH2(CH2)6NH2')>,\n",
        " <Chemical(id=14, name='choline chloride', formula='(CH3)3N(Cl)CH2CH2OH')>,\n",
        " <Chemical(id=15, name='ethanol', formula='C2H5OH')>,\n",
        " <Chemical(id=16, name='ethylene glycol', formula='C2H6O2')>,\n",
        " <Chemical(id=17, name='1-propanol', formula='C3H7OH')>,\n",
        " <Chemical(id=18, name='2-propanol', formula='C3H7OH')>,\n",
        " <Chemical(id=19, name='glycerol', formula='C3H8O3')>,\n",
        " <Chemical(id=20, name='1-butanol', formula='C4H9OH')>]"
       ]
      }
     ],
     "prompt_number": 58
    },
    {
     "cell_type": "code",
     "collapsed": false,
     "input": [
      "dbsession.commit()"
     ],
     "language": "python",
     "metadata": {},
     "outputs": [],
     "prompt_number": 16
    },
    {
     "cell_type": "code",
     "collapsed": false,
     "input": [
      "dbsession.query(Chemical).all()"
     ],
     "language": "python",
     "metadata": {},
     "outputs": [
      {
       "metadata": {},
       "output_type": "pyout",
       "prompt_number": 59,
       "text": [
        "[<Chemical(id= 1, name='sodium hydroxide', formula='NaOH')>,\n",
        " <Chemical(id= 2, name='potassium hydroxide', formula='KOH')>,\n",
        " <Chemical(id= 3, name='sodium aluminate', formula='Na2Al2O4')>,\n",
        " <Chemical(id= 4, name='aluminium hydroxide', formula='Al(OH)3')>,\n",
        " <Chemical(id= 5, name='aluminium isopropoxide', formula='Al(OC3H7)3')>,\n",
        " <Chemical(id= 6, name='aluminum sulfate hexadecahydrate', formula='Al2(SO4)3*18H2O')>,\n",
        " <Chemical(id= 7, name='colloidal silica AM-30', formula='SiO2')>,\n",
        " <Chemical(id= 8, name='colloidal silica HS-40', formula='SiO2')>,\n",
        " <Chemical(id= 9, name='fumed silica', formula='SiO2')>,\n",
        " <Chemical(id=10, name='water', formula='H2O')>,\n",
        " <Chemical(id=11, name='tetramethylammonium chloride', formula='(CH3)4NCl')>,\n",
        " <Chemical(id=12, name='tetramethylammonium hydroxide pentahydride', formula='(CH3)4NOH*5H2O')>,\n",
        " <Chemical(id=13, name='hexamethylenediamine', formula='NH2(CH2)6NH2')>,\n",
        " <Chemical(id=14, name='choline chloride', formula='(CH3)3N(Cl)CH2CH2OH')>,\n",
        " <Chemical(id=15, name='ethanol', formula='C2H5OH')>,\n",
        " <Chemical(id=16, name='ethylene glycol', formula='C2H6O2')>,\n",
        " <Chemical(id=17, name='1-propanol', formula='C3H7OH')>,\n",
        " <Chemical(id=18, name='2-propanol', formula='C3H7OH')>,\n",
        " <Chemical(id=19, name='glycerol', formula='C3H8O3')>,\n",
        " <Chemical(id=20, name='1-butanol', formula='C4H9OH')>]"
       ]
      }
     ],
     "prompt_number": 59
    },
    {
     "cell_type": "code",
     "collapsed": false,
     "input": [
      "petp_dict = {\"name\":\"pentaerythritol\", \"formula\":\"C5H12O4\", \"molwt\":136.15, \"short_name\":\"PETP\", \"concentration\":0.98, \"cas\":\"115-77-5\",\n",
      "                \"density\":1.399, \"pk\":14.1, \"_kind_id\" :1}\n",
      "pery = Chemical(**petp_dict)"
     ],
     "language": "python",
     "metadata": {},
     "outputs": [],
     "prompt_number": 64
    },
    {
     "cell_type": "code",
     "collapsed": false,
     "input": [
      "pery.cas"
     ],
     "language": "python",
     "metadata": {},
     "outputs": [
      {
       "metadata": {},
       "output_type": "pyout",
       "prompt_number": 33,
       "text": [
        "'115-77-5'"
       ]
      }
     ],
     "prompt_number": 33
    },
    {
     "cell_type": "code",
     "collapsed": false,
     "input": [
      "def add_chemical_record(session, data):\n",
      "    \"\"\"\n",
      "    Add a Chemical record to the database, the data should be in the form of a dictionary:\n",
      "\n",
      "    data = {'name' : 'water', 'formula' : 'H2O', 'molwt' : 18.0152,\n",
      "            'kind_id' : 3, 'concentration' : 1.0, 'cas' : '7732-18-5',\n",
      "            'physical_form_id' : 3, 'density' : 0.997}\n",
      "    \"\"\"\n",
      "\n",
      "    chemical = Chemical(**data)\n",
      "\n",
      "    if data.get(\"_kind_id\", None) is not None:\n",
      "        chemical._kind = session.query(Kind).get(data[\"_kind_id\"])\n",
      "\n",
      "    if data.get(\"_physical_form_id\") is not None:\n",
      "        chemical._physical_form = session.query(PhysicalForm).get(data[\"_physical_form_id\"])\n",
      "\n",
      "    if data.get(\"_electrolyte_id\") is not None:\n",
      "        chemical._electrolyte = session.query(Electrolyte).get(data[\"_electrolyte_id\"])\n",
      "\n",
      "    session.add(chemical)\n",
      "    session.commit()"
     ],
     "language": "python",
     "metadata": {},
     "outputs": [],
     "prompt_number": 61
    },
    {
     "cell_type": "code",
     "collapsed": false,
     "input": [
      "dbsession.rollback()\n",
      "add_chemical_record(dbsession, petp_dict)"
     ],
     "language": "python",
     "metadata": {},
     "outputs": [],
     "prompt_number": 66
    },
    {
     "cell_type": "code",
     "collapsed": false,
     "input": [
      "dbsession.query(Chemical).all()"
     ],
     "language": "python",
     "metadata": {},
     "outputs": [
      {
       "metadata": {},
       "output_type": "pyout",
       "prompt_number": 67,
       "text": [
        "[<Chemical(id= 1, name='sodium hydroxide', formula='NaOH')>,\n",
        " <Chemical(id= 2, name='potassium hydroxide', formula='KOH')>,\n",
        " <Chemical(id= 3, name='sodium aluminate', formula='Na2Al2O4')>,\n",
        " <Chemical(id= 4, name='aluminium hydroxide', formula='Al(OH)3')>,\n",
        " <Chemical(id= 5, name='aluminium isopropoxide', formula='Al(OC3H7)3')>,\n",
        " <Chemical(id= 6, name='aluminum sulfate hexadecahydrate', formula='Al2(SO4)3*18H2O')>,\n",
        " <Chemical(id= 7, name='colloidal silica AM-30', formula='SiO2')>,\n",
        " <Chemical(id= 8, name='colloidal silica HS-40', formula='SiO2')>,\n",
        " <Chemical(id= 9, name='fumed silica', formula='SiO2')>,\n",
        " <Chemical(id=10, name='water', formula='H2O')>,\n",
        " <Chemical(id=11, name='tetramethylammonium chloride', formula='(CH3)4NCl')>,\n",
        " <Chemical(id=12, name='tetramethylammonium hydroxide pentahydride', formula='(CH3)4NOH*5H2O')>,\n",
        " <Chemical(id=13, name='hexamethylenediamine', formula='NH2(CH2)6NH2')>,\n",
        " <Chemical(id=14, name='choline chloride', formula='(CH3)3N(Cl)CH2CH2OH')>,\n",
        " <Chemical(id=15, name='ethanol', formula='C2H5OH')>,\n",
        " <Chemical(id=16, name='ethylene glycol', formula='C2H6O2')>,\n",
        " <Chemical(id=17, name='1-propanol', formula='C3H7OH')>,\n",
        " <Chemical(id=18, name='2-propanol', formula='C3H7OH')>,\n",
        " <Chemical(id=19, name='glycerol', formula='C3H8O3')>,\n",
        " <Chemical(id=20, name='1-butanol', formula='C4H9OH')>,\n",
        " <Chemical(id=21, name='pentaerythritol', formula='C5H12O4')>,\n",
        " <Chemical(id=22, name='pentaerythritol', formula='C5H12O4')>]"
       ]
      }
     ],
     "prompt_number": 67
    },
    {
     "cell_type": "code",
     "collapsed": false,
     "input": [
      "a = dbsession.query(Chemical).get(22)"
     ],
     "language": "python",
     "metadata": {},
     "outputs": [],
     "prompt_number": 69
    },
    {
     "cell_type": "code",
     "collapsed": false,
     "input": [
      "a.kind"
     ],
     "language": "python",
     "metadata": {},
     "outputs": [
      {
       "metadata": {},
       "output_type": "pyout",
       "prompt_number": 70,
       "text": [
        "u'mixture'"
       ]
      }
     ],
     "prompt_number": 70
    },
    {
     "cell_type": "code",
     "collapsed": false,
     "input": [],
     "language": "python",
     "metadata": {},
     "outputs": []
    }
   ],
   "metadata": {}
  }
 ]
}