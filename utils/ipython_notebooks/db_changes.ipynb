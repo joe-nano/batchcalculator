{
 "metadata": {
  "name": "",
  "signature": "sha256:3a481074c5c0628701257c66c8f8d73d371a400808f1a49ebbbf593a54e26f5b"
 },
 "nbformat": 3,
 "nbformat_minor": 0,
 "worksheets": [
  {
   "cells": [
    {
     "cell_type": "code",
     "collapsed": false,
     "input": [
      "from batchcalc import calculator as cal\n",
      "from batchcalc.calculator import Chemical, Types, PhysicalForm, Reactant"
     ],
     "language": "python",
     "metadata": {},
     "outputs": [],
     "prompt_number": 1
    },
    {
     "cell_type": "code",
     "collapsed": false,
     "input": [
      "bc = cal.BatchCalculator()"
     ],
     "language": "python",
     "metadata": {},
     "outputs": [],
     "prompt_number": 3
    },
    {
     "cell_type": "code",
     "collapsed": false,
     "input": [
      "bc.session.query(Chemical, Types.name, PhysicalForm.form).\\\n",
      "                     filter(Chemical.typ == Types.id).\\\n",
      "                     filter(Chemical.physical_form_id == PhysicalForm.id).all()"
     ],
     "language": "python",
     "metadata": {},
     "outputs": [
      {
       "metadata": {},
       "output_type": "pyout",
       "prompt_number": 9,
       "text": [
        "[(<Chemical(id= 1, name='sodium hydroxide', formula='NaOH')>,\n",
        "  u'solution',\n",
        "  u'crystals'),\n",
        " (<Chemical(id= 2, name='potassium hydroxide', formula='KOH')>,\n",
        "  u'solution',\n",
        "  u'crystals'),\n",
        " (<Chemical(id= 3, name='sodium aluminate', formula='Na2Al2O4')>,\n",
        "  u'reactant',\n",
        "  u'crystals'),\n",
        " (<Chemical(id= 4, name='aluminium hydroxide', formula='Al(OH)3')>,\n",
        "  u'solution',\n",
        "  u'solid'),\n",
        " (<Chemical(id= 5, name='aluminium isopropoxide', formula='Al(OC3H7)3')>,\n",
        "  u'reactant',\n",
        "  u'solid'),\n",
        " (<Chemical(id= 6, name='aluminum sulfate hexadecahydrate', formula='Al2(SO4)3*18H2O')>,\n",
        "  u'reactant',\n",
        "  u'crystals'),\n",
        " (<Chemical(id= 7, name='colloidal silica AM-30', formula='SiO2')>,\n",
        "  u'mixture',\n",
        "  u'liquid'),\n",
        " (<Chemical(id= 8, name='colloidal silica HS-40', formula='SiO2')>,\n",
        "  u'mixture',\n",
        "  u'liquid'),\n",
        " (<Chemical(id= 9, name='fumed silica', formula='SiO2')>,\n",
        "  u'reactant',\n",
        "  u'solid'),\n",
        " (<Chemical(id=10, name='water', formula='H2O')>, u'reactant', u'liquid'),\n",
        " (<Chemical(id=11, name='tetramethylammonium chloride', formula='(CH3)4NCl')>,\n",
        "  u'reactant',\n",
        "  u'crystals'),\n",
        " (<Chemical(id=12, name='tetramethylammonium hydroxide pentahydride', formula='(CH3)4NOH*5H2O')>,\n",
        "  u'reactant',\n",
        "  u'solid'),\n",
        " (<Chemical(id=13, name='hexamethylenediamine', formula='NH2(CH2)6NH2')>,\n",
        "  u'reactant',\n",
        "  u'solid'),\n",
        " (<Chemical(id=14, name='choline chloride', formula='(CH3)3N(Cl)CH2CH2OH')>,\n",
        "  u'reactant',\n",
        "  u'crystals'),\n",
        " (<Chemical(id=15, name='ethanol', formula='C2H5OH')>, u'reactant', u'liquid'),\n",
        " (<Chemical(id=16, name='ethylene glycol', formula='C2H6O2')>,\n",
        "  u'reactant',\n",
        "  u'liquid'),\n",
        " (<Chemical(id=17, name='1-propanol', formula='C3H7OH')>,\n",
        "  u'reactant',\n",
        "  u'liquid'),\n",
        " (<Chemical(id=18, name='2-propanol', formula='C3H7OH')>,\n",
        "  u'reactant',\n",
        "  u'liquid'),\n",
        " (<Chemical(id=19, name='glycerol', formula='C3H8O3')>,\n",
        "  u'reactant',\n",
        "  u'liquid'),\n",
        " (<Chemical(id=20, name='1-butanol', formula='C4H9OH')>,\n",
        "  u'reactant',\n",
        "  u'liquid')]"
       ]
      }
     ],
     "prompt_number": 9
    },
    {
     "cell_type": "code",
     "collapsed": false,
     "input": [
      "bc.session.query(Chemical).all()"
     ],
     "language": "python",
     "metadata": {},
     "outputs": [
      {
       "metadata": {},
       "output_type": "pyout",
       "prompt_number": 4,
       "text": [
        "[<Chemical(id= 1, name='sodium hydroxide', formula='NaOH')>,\n",
        " <Chemical(id= 2, name='potassium hydroxide', formula='KOH')>,\n",
        " <Chemical(id= 3, name='sodium aluminate', formula='Na2Al2O4')>,\n",
        " <Chemical(id= 4, name='aluminium hydroxide', formula='Al(OH)3')>,\n",
        " <Chemical(id= 5, name='aluminium isopropoxide', formula='Al(OC3H7)3')>,\n",
        " <Chemical(id= 6, name='aluminum sulfate hexadecahydrate', formula='Al2(SO4)3*18H2O')>,\n",
        " <Chemical(id= 7, name='colloidal silica AM-30', formula='SiO2')>,\n",
        " <Chemical(id= 8, name='colloidal silica HS-40', formula='SiO2')>,\n",
        " <Chemical(id= 9, name='fumed silica', formula='SiO2')>,\n",
        " <Chemical(id=10, name='water', formula='H2O')>,\n",
        " <Chemical(id=11, name='tetramethylammonium chloride', formula='(CH3)4NCl')>,\n",
        " <Chemical(id=12, name='tetramethylammonium hydroxide pentahydride', formula='(CH3)4NOH*5H2O')>,\n",
        " <Chemical(id=13, name='hexamethylenediamine', formula='NH2(CH2)6NH2')>,\n",
        " <Chemical(id=14, name='choline chloride', formula='(CH3)3N(Cl)CH2CH2OH')>,\n",
        " <Chemical(id=15, name='ethanol', formula='C2H5OH')>,\n",
        " <Chemical(id=16, name='ethylene glycol', formula='C2H6O2')>,\n",
        " <Chemical(id=17, name='1-propanol', formula='C3H7OH')>,\n",
        " <Chemical(id=18, name='2-propanol', formula='C3H7OH')>,\n",
        " <Chemical(id=19, name='glycerol', formula='C3H8O3')>,\n",
        " <Chemical(id=20, name='1-butanol', formula='C4H9OH')>]"
       ]
      }
     ],
     "prompt_number": 4
    },
    {
     "cell_type": "code",
     "collapsed": false,
     "input": [
      "fructose = Chemical(name=\"fructose\", formula=\"C6H12O6\", molwt=180.1572, typ=3, concentration=0.99, cas=\"57-48-7\", density=1.69)"
     ],
     "language": "python",
     "metadata": {},
     "outputs": [],
     "prompt_number": 5
    },
    {
     "cell_type": "code",
     "collapsed": false,
     "input": [
      "bc.session.add(fructose)\n",
      "bc.session.commit()"
     ],
     "language": "python",
     "metadata": {},
     "outputs": [],
     "prompt_number": 11
    },
    {
     "cell_type": "code",
     "collapsed": false,
     "input": [
      "bc.session.query(Chemical).all()"
     ],
     "language": "python",
     "metadata": {},
     "outputs": [
      {
       "metadata": {},
       "output_type": "pyout",
       "prompt_number": 12,
       "text": [
        "[<Chemical(id= 1, name='sodium hydroxide', formula='NaOH')>,\n",
        " <Chemical(id= 2, name='potassium hydroxide', formula='KOH')>,\n",
        " <Chemical(id= 3, name='sodium aluminate', formula='Na2Al2O4')>,\n",
        " <Chemical(id= 4, name='aluminium hydroxide', formula='Al(OH)3')>,\n",
        " <Chemical(id= 5, name='aluminium isopropoxide', formula='Al(OC3H7)3')>,\n",
        " <Chemical(id= 6, name='aluminum sulfate hexadecahydrate', formula='Al2(SO4)3*18H2O')>,\n",
        " <Chemical(id= 7, name='colloidal silica AM-30', formula='SiO2')>,\n",
        " <Chemical(id= 8, name='colloidal silica HS-40', formula='SiO2')>,\n",
        " <Chemical(id= 9, name='fumed silica', formula='SiO2')>,\n",
        " <Chemical(id=10, name='water', formula='H2O')>,\n",
        " <Chemical(id=11, name='tetramethylammonium chloride', formula='(CH3)4NCl')>,\n",
        " <Chemical(id=12, name='tetramethylammonium hydroxide pentahydride', formula='(CH3)4NOH*5H2O')>,\n",
        " <Chemical(id=13, name='hexamethylenediamine', formula='NH2(CH2)6NH2')>,\n",
        " <Chemical(id=14, name='choline chloride', formula='(CH3)3N(Cl)CH2CH2OH')>,\n",
        " <Chemical(id=15, name='ethanol', formula='C2H5OH')>,\n",
        " <Chemical(id=16, name='ethylene glycol', formula='C2H6O2')>,\n",
        " <Chemical(id=17, name='1-propanol', formula='C3H7OH')>,\n",
        " <Chemical(id=18, name='2-propanol', formula='C3H7OH')>,\n",
        " <Chemical(id=19, name='glycerol', formula='C3H8O3')>,\n",
        " <Chemical(id=20, name='1-butanol', formula='C4H9OH')>,\n",
        " <Chemical(id=21, name='fructose', formula='C6H12O6')>]"
       ]
      }
     ],
     "prompt_number": 12
    },
    {
     "cell_type": "code",
     "collapsed": false,
     "input": [
      "r1.physical_form"
     ],
     "language": "python",
     "metadata": {},
     "outputs": [
      {
       "metadata": {},
       "output_type": "pyout",
       "prompt_number": 6,
       "text": [
        "u'crystals'"
       ]
      }
     ],
     "prompt_number": 6
    },
    {
     "cell_type": "code",
     "collapsed": false,
     "input": [
      "def check_chemicals():\n",
      "    query = bc.session.query(Chemical).order_by(Chemical.id).all()\n",
      "    for item in query:\n",
      "        print item.id, item.name, item.formula, item.electrolyte_id"
     ],
     "language": "python",
     "metadata": {},
     "outputs": [],
     "prompt_number": 7
    },
    {
     "cell_type": "code",
     "collapsed": false,
     "input": [
      "check_chemicals()"
     ],
     "language": "python",
     "metadata": {},
     "outputs": [
      {
       "output_type": "stream",
       "stream": "stdout",
       "text": [
        "1 sodium hydroxide NaOH None\n",
        "2 potassium hydroxide KOH None\n",
        "3 sodium aluminate Na2Al2O4 None\n",
        "4 aluminium hydroxide Al(OH)3 None\n",
        "5 aluminium isopropoxide Al(OC3H7)3 None\n",
        "6 aluminum sulfate hexadecahydrate Al2(SO4)3*18H2O None\n",
        "7 colloidal silica AM-30 SiO2 None\n",
        "8 colloidal silica HS-40 SiO2 None\n",
        "9 fumed silica SiO2 None\n",
        "10 water H2O None\n",
        "11 tetramethylammonium chloride (CH3)4NCl None\n",
        "12 tetramethylammonium hydroxide pentahydride (CH3)4NOH*5H2O None\n",
        "13 hexamethylenediamine NH2(CH2)6NH2 None\n",
        "14 choline chloride (CH3)3N(Cl)CH2CH2OH None\n",
        "15 ethanol C2H5OH None\n",
        "16 ethylene glycol C2H6O2 None\n",
        "17 1-propanol C3H7OH None\n",
        "18 2-propanol C3H7OH None\n",
        "19 glycerol C3H8O3 None\n",
        "20 1-butanol C4H9OH None\n"
       ]
      }
     ],
     "prompt_number": 8
    },
    {
     "cell_type": "code",
     "collapsed": false,
     "input": [],
     "language": "python",
     "metadata": {},
     "outputs": [],
     "prompt_number": 8
    }
   ],
   "metadata": {}
  }
 ]
}