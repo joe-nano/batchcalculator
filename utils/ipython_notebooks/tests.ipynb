{
 "metadata": {
  "name": "",
  "signature": "sha256:2dd3bb5c67fc56c9d568eaf20cdf832bcd538a42f6f393fc7eed9d1f6b8f00f8"
 },
 "nbformat": 3,
 "nbformat_minor": 0,
 "worksheets": [
  {
   "cells": [
    {
     "cell_type": "code",
     "collapsed": false,
     "input": [
      "import os\n",
      "from batchcalc.calculator import BatchCalculator, Component, Chemical\n",
      "\n",
      "# create te model\n",
      "bc = BatchCalculator()\n",
      "bc.new_dbsession(os.path.join(os.getcwd(), 'zeolite.db'))\n",
      "\n",
      "# get the components\n",
      "moles = [8.0, 1.7, 1.0, 24.0, 410.0, 1.7]\n",
      "bc.components = bc.session.query(Component).filter(Component.id < 7).order_by(Component.id).all()\n",
      "for c, m in zip(bc.components, moles):\n",
      "    c.moles = m\n",
      "\n",
      "# now get the chemicals\n",
      "ids = [1, 2, 5, 9, 10, 11]\n",
      "for i in ids:\n",
      "    bc.chemicals.append(bc.session.query(Chemical).filter(Chemical.id==i).one())\n",
      "\n",
      "# do the calculation\n",
      "bc.calculate()"
     ],
     "language": "python",
     "metadata": {},
     "outputs": [
      {
       "output_type": "stream",
       "stream": "stdout",
       "text": [
        "2014-12-31 01:01:53,686 INFO sqlalchemy.engine.base.Engine SELECT CAST('test plain returns' AS VARCHAR(60)) AS anon_1\n"
       ]
      },
      {
       "output_type": "stream",
       "stream": "stderr",
       "text": [
        "INFO:sqlalchemy.engine.base.Engine:SELECT CAST('test plain returns' AS VARCHAR(60)) AS anon_1\n"
       ]
      },
      {
       "output_type": "stream",
       "stream": "stdout",
       "text": [
        "2014-12-31 01:01:53,687 INFO sqlalchemy.engine.base.Engine ()\n"
       ]
      },
      {
       "output_type": "stream",
       "stream": "stderr",
       "text": [
        "INFO:sqlalchemy.engine.base.Engine:()\n"
       ]
      },
      {
       "output_type": "stream",
       "stream": "stdout",
       "text": [
        "2014-12-31 01:01:53,688 INFO sqlalchemy.engine.base.Engine SELECT CAST('test unicode returns' AS VARCHAR(60)) AS anon_1\n"
       ]
      },
      {
       "output_type": "stream",
       "stream": "stderr",
       "text": [
        "INFO:sqlalchemy.engine.base.Engine:SELECT CAST('test unicode returns' AS VARCHAR(60)) AS anon_1\n"
       ]
      },
      {
       "output_type": "stream",
       "stream": "stdout",
       "text": [
        "2014-12-31 01:01:53,689 INFO sqlalchemy.engine.base.Engine ()\n"
       ]
      },
      {
       "output_type": "stream",
       "stream": "stderr",
       "text": [
        "INFO:sqlalchemy.engine.base.Engine:()\n"
       ]
      },
      {
       "output_type": "stream",
       "stream": "stdout",
       "text": [
        "2014-12-31 01:01:53,691 INFO sqlalchemy.engine.base.Engine BEGIN (implicit)\n"
       ]
      },
      {
       "output_type": "stream",
       "stream": "stderr",
       "text": [
        "INFO:sqlalchemy.engine.base.Engine:BEGIN (implicit)\n"
       ]
      },
      {
       "output_type": "stream",
       "stream": "stdout",
       "text": [
        "2014-12-31 01:01:53,694 INFO sqlalchemy.engine.base.Engine SELECT components.category_id AS components_category_id, components.id AS components_id, components.name AS components_name, components.formula AS components_formula, components.molwt AS components_molwt, components.short_name AS components_short_name \n",
        "FROM components \n",
        "WHERE components.id < ? ORDER BY components.id\n"
       ]
      },
      {
       "output_type": "stream",
       "stream": "stderr",
       "text": [
        "INFO:sqlalchemy.engine.base.Engine:SELECT components.category_id AS components_category_id, components.id AS components_id, components.name AS components_name, components.formula AS components_formula, components.molwt AS components_molwt, components.short_name AS components_short_name \n",
        "FROM components \n",
        "WHERE components.id < ? ORDER BY components.id\n"
       ]
      },
      {
       "output_type": "stream",
       "stream": "stdout",
       "text": [
        "2014-12-31 01:01:53,695 INFO sqlalchemy.engine.base.Engine (7,)\n"
       ]
      },
      {
       "output_type": "stream",
       "stream": "stderr",
       "text": [
        "INFO:sqlalchemy.engine.base.Engine:(7,)\n"
       ]
      },
      {
       "output_type": "stream",
       "stream": "stdout",
       "text": [
        "2014-12-31 01:01:53,700 INFO sqlalchemy.engine.base.Engine SELECT chemicals.kind_id AS chemicals_kind_id, chemicals.electrolyte_id AS chemicals_electrolyte_id, chemicals.physical_form_id AS chemicals_physical_form_id, chemicals.id AS chemicals_id, chemicals.name AS chemicals_name, chemicals.formula AS chemicals_formula, chemicals.molwt AS chemicals_molwt, chemicals.short_name AS chemicals_short_name, chemicals.concentration AS chemicals_concentration, chemicals.cas AS chemicals_cas, chemicals.density AS chemicals_density, chemicals.pk AS chemicals_pk, chemicals.smiles AS chemicals_smiles \n",
        "FROM chemicals \n",
        "WHERE chemicals.id = ?\n"
       ]
      },
      {
       "output_type": "stream",
       "stream": "stderr",
       "text": [
        "INFO:sqlalchemy.engine.base.Engine:SELECT chemicals.kind_id AS chemicals_kind_id, chemicals.electrolyte_id AS chemicals_electrolyte_id, chemicals.physical_form_id AS chemicals_physical_form_id, chemicals.id AS chemicals_id, chemicals.name AS chemicals_name, chemicals.formula AS chemicals_formula, chemicals.molwt AS chemicals_molwt, chemicals.short_name AS chemicals_short_name, chemicals.concentration AS chemicals_concentration, chemicals.cas AS chemicals_cas, chemicals.density AS chemicals_density, chemicals.pk AS chemicals_pk, chemicals.smiles AS chemicals_smiles \n",
        "FROM chemicals \n",
        "WHERE chemicals.id = ?\n"
       ]
      },
      {
       "output_type": "stream",
       "stream": "stdout",
       "text": [
        "2014-12-31 01:01:53,701 INFO sqlalchemy.engine.base.Engine (1,)\n"
       ]
      },
      {
       "output_type": "stream",
       "stream": "stderr",
       "text": [
        "INFO:sqlalchemy.engine.base.Engine:(1,)\n"
       ]
      },
      {
       "output_type": "stream",
       "stream": "stdout",
       "text": [
        "2014-12-31 01:01:53,706 INFO sqlalchemy.engine.base.Engine SELECT chemicals.kind_id AS chemicals_kind_id, chemicals.electrolyte_id AS chemicals_electrolyte_id, chemicals.physical_form_id AS chemicals_physical_form_id, chemicals.id AS chemicals_id, chemicals.name AS chemicals_name, chemicals.formula AS chemicals_formula, chemicals.molwt AS chemicals_molwt, chemicals.short_name AS chemicals_short_name, chemicals.concentration AS chemicals_concentration, chemicals.cas AS chemicals_cas, chemicals.density AS chemicals_density, chemicals.pk AS chemicals_pk, chemicals.smiles AS chemicals_smiles \n",
        "FROM chemicals \n",
        "WHERE chemicals.id = ?\n"
       ]
      },
      {
       "output_type": "stream",
       "stream": "stderr",
       "text": [
        "INFO:sqlalchemy.engine.base.Engine:SELECT chemicals.kind_id AS chemicals_kind_id, chemicals.electrolyte_id AS chemicals_electrolyte_id, chemicals.physical_form_id AS chemicals_physical_form_id, chemicals.id AS chemicals_id, chemicals.name AS chemicals_name, chemicals.formula AS chemicals_formula, chemicals.molwt AS chemicals_molwt, chemicals.short_name AS chemicals_short_name, chemicals.concentration AS chemicals_concentration, chemicals.cas AS chemicals_cas, chemicals.density AS chemicals_density, chemicals.pk AS chemicals_pk, chemicals.smiles AS chemicals_smiles \n",
        "FROM chemicals \n",
        "WHERE chemicals.id = ?\n"
       ]
      },
      {
       "output_type": "stream",
       "stream": "stdout",
       "text": [
        "2014-12-31 01:01:53,707 INFO sqlalchemy.engine.base.Engine (2,)\n"
       ]
      },
      {
       "output_type": "stream",
       "stream": "stderr",
       "text": [
        "INFO:sqlalchemy.engine.base.Engine:(2,)\n"
       ]
      },
      {
       "output_type": "stream",
       "stream": "stdout",
       "text": [
        "2014-12-31 01:01:53,711 INFO sqlalchemy.engine.base.Engine SELECT chemicals.kind_id AS chemicals_kind_id, chemicals.electrolyte_id AS chemicals_electrolyte_id, chemicals.physical_form_id AS chemicals_physical_form_id, chemicals.id AS chemicals_id, chemicals.name AS chemicals_name, chemicals.formula AS chemicals_formula, chemicals.molwt AS chemicals_molwt, chemicals.short_name AS chemicals_short_name, chemicals.concentration AS chemicals_concentration, chemicals.cas AS chemicals_cas, chemicals.density AS chemicals_density, chemicals.pk AS chemicals_pk, chemicals.smiles AS chemicals_smiles \n",
        "FROM chemicals \n",
        "WHERE chemicals.id = ?\n"
       ]
      },
      {
       "output_type": "stream",
       "stream": "stderr",
       "text": [
        "INFO:sqlalchemy.engine.base.Engine:SELECT chemicals.kind_id AS chemicals_kind_id, chemicals.electrolyte_id AS chemicals_electrolyte_id, chemicals.physical_form_id AS chemicals_physical_form_id, chemicals.id AS chemicals_id, chemicals.name AS chemicals_name, chemicals.formula AS chemicals_formula, chemicals.molwt AS chemicals_molwt, chemicals.short_name AS chemicals_short_name, chemicals.concentration AS chemicals_concentration, chemicals.cas AS chemicals_cas, chemicals.density AS chemicals_density, chemicals.pk AS chemicals_pk, chemicals.smiles AS chemicals_smiles \n",
        "FROM chemicals \n",
        "WHERE chemicals.id = ?\n"
       ]
      },
      {
       "output_type": "stream",
       "stream": "stdout",
       "text": [
        "2014-12-31 01:01:53,713 INFO sqlalchemy.engine.base.Engine (5,)\n"
       ]
      },
      {
       "output_type": "stream",
       "stream": "stderr",
       "text": [
        "INFO:sqlalchemy.engine.base.Engine:(5,)\n"
       ]
      },
      {
       "output_type": "stream",
       "stream": "stdout",
       "text": [
        "2014-12-31 01:01:53,717 INFO sqlalchemy.engine.base.Engine SELECT chemicals.kind_id AS chemicals_kind_id, chemicals.electrolyte_id AS chemicals_electrolyte_id, chemicals.physical_form_id AS chemicals_physical_form_id, chemicals.id AS chemicals_id, chemicals.name AS chemicals_name, chemicals.formula AS chemicals_formula, chemicals.molwt AS chemicals_molwt, chemicals.short_name AS chemicals_short_name, chemicals.concentration AS chemicals_concentration, chemicals.cas AS chemicals_cas, chemicals.density AS chemicals_density, chemicals.pk AS chemicals_pk, chemicals.smiles AS chemicals_smiles \n",
        "FROM chemicals \n",
        "WHERE chemicals.id = ?\n"
       ]
      },
      {
       "output_type": "stream",
       "stream": "stderr",
       "text": [
        "INFO:sqlalchemy.engine.base.Engine:SELECT chemicals.kind_id AS chemicals_kind_id, chemicals.electrolyte_id AS chemicals_electrolyte_id, chemicals.physical_form_id AS chemicals_physical_form_id, chemicals.id AS chemicals_id, chemicals.name AS chemicals_name, chemicals.formula AS chemicals_formula, chemicals.molwt AS chemicals_molwt, chemicals.short_name AS chemicals_short_name, chemicals.concentration AS chemicals_concentration, chemicals.cas AS chemicals_cas, chemicals.density AS chemicals_density, chemicals.pk AS chemicals_pk, chemicals.smiles AS chemicals_smiles \n",
        "FROM chemicals \n",
        "WHERE chemicals.id = ?\n"
       ]
      },
      {
       "output_type": "stream",
       "stream": "stdout",
       "text": [
        "2014-12-31 01:01:53,718 INFO sqlalchemy.engine.base.Engine (9,)\n"
       ]
      },
      {
       "output_type": "stream",
       "stream": "stderr",
       "text": [
        "INFO:sqlalchemy.engine.base.Engine:(9,)\n"
       ]
      },
      {
       "output_type": "stream",
       "stream": "stdout",
       "text": [
        "2014-12-31 01:01:53,721 INFO sqlalchemy.engine.base.Engine SELECT chemicals.kind_id AS chemicals_kind_id, chemicals.electrolyte_id AS chemicals_electrolyte_id, chemicals.physical_form_id AS chemicals_physical_form_id, chemicals.id AS chemicals_id, chemicals.name AS chemicals_name, chemicals.formula AS chemicals_formula, chemicals.molwt AS chemicals_molwt, chemicals.short_name AS chemicals_short_name, chemicals.concentration AS chemicals_concentration, chemicals.cas AS chemicals_cas, chemicals.density AS chemicals_density, chemicals.pk AS chemicals_pk, chemicals.smiles AS chemicals_smiles \n",
        "FROM chemicals \n",
        "WHERE chemicals.id = ?\n"
       ]
      },
      {
       "output_type": "stream",
       "stream": "stderr",
       "text": [
        "INFO:sqlalchemy.engine.base.Engine:SELECT chemicals.kind_id AS chemicals_kind_id, chemicals.electrolyte_id AS chemicals_electrolyte_id, chemicals.physical_form_id AS chemicals_physical_form_id, chemicals.id AS chemicals_id, chemicals.name AS chemicals_name, chemicals.formula AS chemicals_formula, chemicals.molwt AS chemicals_molwt, chemicals.short_name AS chemicals_short_name, chemicals.concentration AS chemicals_concentration, chemicals.cas AS chemicals_cas, chemicals.density AS chemicals_density, chemicals.pk AS chemicals_pk, chemicals.smiles AS chemicals_smiles \n",
        "FROM chemicals \n",
        "WHERE chemicals.id = ?\n"
       ]
      },
      {
       "output_type": "stream",
       "stream": "stdout",
       "text": [
        "2014-12-31 01:01:53,722 INFO sqlalchemy.engine.base.Engine (10,)\n"
       ]
      },
      {
       "output_type": "stream",
       "stream": "stderr",
       "text": [
        "INFO:sqlalchemy.engine.base.Engine:(10,)\n"
       ]
      },
      {
       "output_type": "stream",
       "stream": "stdout",
       "text": [
        "2014-12-31 01:01:53,727 INFO sqlalchemy.engine.base.Engine SELECT chemicals.kind_id AS chemicals_kind_id, chemicals.electrolyte_id AS chemicals_electrolyte_id, chemicals.physical_form_id AS chemicals_physical_form_id, chemicals.id AS chemicals_id, chemicals.name AS chemicals_name, chemicals.formula AS chemicals_formula, chemicals.molwt AS chemicals_molwt, chemicals.short_name AS chemicals_short_name, chemicals.concentration AS chemicals_concentration, chemicals.cas AS chemicals_cas, chemicals.density AS chemicals_density, chemicals.pk AS chemicals_pk, chemicals.smiles AS chemicals_smiles \n",
        "FROM chemicals \n",
        "WHERE chemicals.id = ?\n"
       ]
      },
      {
       "output_type": "stream",
       "stream": "stderr",
       "text": [
        "INFO:sqlalchemy.engine.base.Engine:SELECT chemicals.kind_id AS chemicals_kind_id, chemicals.electrolyte_id AS chemicals_electrolyte_id, chemicals.physical_form_id AS chemicals_physical_form_id, chemicals.id AS chemicals_id, chemicals.name AS chemicals_name, chemicals.formula AS chemicals_formula, chemicals.molwt AS chemicals_molwt, chemicals.short_name AS chemicals_short_name, chemicals.concentration AS chemicals_concentration, chemicals.cas AS chemicals_cas, chemicals.density AS chemicals_density, chemicals.pk AS chemicals_pk, chemicals.smiles AS chemicals_smiles \n",
        "FROM chemicals \n",
        "WHERE chemicals.id = ?\n"
       ]
      },
      {
       "output_type": "stream",
       "stream": "stdout",
       "text": [
        "2014-12-31 01:01:53,728 INFO sqlalchemy.engine.base.Engine (11,)\n"
       ]
      },
      {
       "output_type": "stream",
       "stream": "stderr",
       "text": [
        "INFO:sqlalchemy.engine.base.Engine:(11,)\n"
       ]
      },
      {
       "output_type": "stream",
       "stream": "stdout",
       "text": [
        "2014-12-31 01:01:53,732 INFO sqlalchemy.engine.base.Engine SELECT chemicals.kind_id AS chemicals_kind_id, chemicals.electrolyte_id AS chemicals_electrolyte_id, chemicals.physical_form_id AS chemicals_physical_form_id, chemicals.id AS chemicals_id, chemicals.name AS chemicals_name, chemicals.formula AS chemicals_formula, chemicals.molwt AS chemicals_molwt, chemicals.short_name AS chemicals_short_name, chemicals.concentration AS chemicals_concentration, chemicals.cas AS chemicals_cas, chemicals.density AS chemicals_density, chemicals.pk AS chemicals_pk, chemicals.smiles AS chemicals_smiles \n",
        "FROM chemicals JOIN batch ON chemicals.id = batch.chemical_id \n",
        "WHERE batch.component_id = ?\n"
       ]
      },
      {
       "output_type": "stream",
       "stream": "stderr",
       "text": [
        "INFO:sqlalchemy.engine.base.Engine:SELECT chemicals.kind_id AS chemicals_kind_id, chemicals.electrolyte_id AS chemicals_electrolyte_id, chemicals.physical_form_id AS chemicals_physical_form_id, chemicals.id AS chemicals_id, chemicals.name AS chemicals_name, chemicals.formula AS chemicals_formula, chemicals.molwt AS chemicals_molwt, chemicals.short_name AS chemicals_short_name, chemicals.concentration AS chemicals_concentration, chemicals.cas AS chemicals_cas, chemicals.density AS chemicals_density, chemicals.pk AS chemicals_pk, chemicals.smiles AS chemicals_smiles \n",
        "FROM chemicals JOIN batch ON chemicals.id = batch.chemical_id \n",
        "WHERE batch.component_id = ?\n"
       ]
      },
      {
       "output_type": "stream",
       "stream": "stdout",
       "text": [
        "2014-12-31 01:01:53,733 INFO sqlalchemy.engine.base.Engine (1,)\n"
       ]
      },
      {
       "output_type": "stream",
       "stream": "stderr",
       "text": [
        "INFO:sqlalchemy.engine.base.Engine:(1,)\n"
       ]
      },
      {
       "output_type": "stream",
       "stream": "stdout",
       "text": [
        "2014-12-31 01:01:53,738 INFO sqlalchemy.engine.base.Engine SELECT chemicals.kind_id AS chemicals_kind_id, chemicals.electrolyte_id AS chemicals_electrolyte_id, chemicals.physical_form_id AS chemicals_physical_form_id, chemicals.id AS chemicals_id, chemicals.name AS chemicals_name, chemicals.formula AS chemicals_formula, chemicals.molwt AS chemicals_molwt, chemicals.short_name AS chemicals_short_name, chemicals.concentration AS chemicals_concentration, chemicals.cas AS chemicals_cas, chemicals.density AS chemicals_density, chemicals.pk AS chemicals_pk, chemicals.smiles AS chemicals_smiles \n",
        "FROM chemicals JOIN batch ON chemicals.id = batch.chemical_id \n",
        "WHERE batch.component_id = ?\n"
       ]
      },
      {
       "output_type": "stream",
       "stream": "stderr",
       "text": [
        "INFO:sqlalchemy.engine.base.Engine:SELECT chemicals.kind_id AS chemicals_kind_id, chemicals.electrolyte_id AS chemicals_electrolyte_id, chemicals.physical_form_id AS chemicals_physical_form_id, chemicals.id AS chemicals_id, chemicals.name AS chemicals_name, chemicals.formula AS chemicals_formula, chemicals.molwt AS chemicals_molwt, chemicals.short_name AS chemicals_short_name, chemicals.concentration AS chemicals_concentration, chemicals.cas AS chemicals_cas, chemicals.density AS chemicals_density, chemicals.pk AS chemicals_pk, chemicals.smiles AS chemicals_smiles \n",
        "FROM chemicals JOIN batch ON chemicals.id = batch.chemical_id \n",
        "WHERE batch.component_id = ?\n"
       ]
      },
      {
       "output_type": "stream",
       "stream": "stdout",
       "text": [
        "2014-12-31 01:01:53,739 INFO sqlalchemy.engine.base.Engine (2,)\n"
       ]
      },
      {
       "output_type": "stream",
       "stream": "stderr",
       "text": [
        "INFO:sqlalchemy.engine.base.Engine:(2,)\n"
       ]
      },
      {
       "output_type": "stream",
       "stream": "stdout",
       "text": [
        "2014-12-31 01:01:53,744 INFO sqlalchemy.engine.base.Engine SELECT chemicals.kind_id AS chemicals_kind_id, chemicals.electrolyte_id AS chemicals_electrolyte_id, chemicals.physical_form_id AS chemicals_physical_form_id, chemicals.id AS chemicals_id, chemicals.name AS chemicals_name, chemicals.formula AS chemicals_formula, chemicals.molwt AS chemicals_molwt, chemicals.short_name AS chemicals_short_name, chemicals.concentration AS chemicals_concentration, chemicals.cas AS chemicals_cas, chemicals.density AS chemicals_density, chemicals.pk AS chemicals_pk, chemicals.smiles AS chemicals_smiles \n",
        "FROM chemicals JOIN batch ON chemicals.id = batch.chemical_id \n",
        "WHERE batch.component_id = ?\n"
       ]
      },
      {
       "output_type": "stream",
       "stream": "stderr",
       "text": [
        "INFO:sqlalchemy.engine.base.Engine:SELECT chemicals.kind_id AS chemicals_kind_id, chemicals.electrolyte_id AS chemicals_electrolyte_id, chemicals.physical_form_id AS chemicals_physical_form_id, chemicals.id AS chemicals_id, chemicals.name AS chemicals_name, chemicals.formula AS chemicals_formula, chemicals.molwt AS chemicals_molwt, chemicals.short_name AS chemicals_short_name, chemicals.concentration AS chemicals_concentration, chemicals.cas AS chemicals_cas, chemicals.density AS chemicals_density, chemicals.pk AS chemicals_pk, chemicals.smiles AS chemicals_smiles \n",
        "FROM chemicals JOIN batch ON chemicals.id = batch.chemical_id \n",
        "WHERE batch.component_id = ?\n"
       ]
      },
      {
       "output_type": "stream",
       "stream": "stdout",
       "text": [
        "2014-12-31 01:01:53,745 INFO sqlalchemy.engine.base.Engine (3,)\n"
       ]
      },
      {
       "output_type": "stream",
       "stream": "stderr",
       "text": [
        "INFO:sqlalchemy.engine.base.Engine:(3,)\n"
       ]
      },
      {
       "output_type": "stream",
       "stream": "stdout",
       "text": [
        "2014-12-31 01:01:53,750 INFO sqlalchemy.engine.base.Engine SELECT chemicals.kind_id AS chemicals_kind_id, chemicals.electrolyte_id AS chemicals_electrolyte_id, chemicals.physical_form_id AS chemicals_physical_form_id, chemicals.id AS chemicals_id, chemicals.name AS chemicals_name, chemicals.formula AS chemicals_formula, chemicals.molwt AS chemicals_molwt, chemicals.short_name AS chemicals_short_name, chemicals.concentration AS chemicals_concentration, chemicals.cas AS chemicals_cas, chemicals.density AS chemicals_density, chemicals.pk AS chemicals_pk, chemicals.smiles AS chemicals_smiles \n",
        "FROM chemicals JOIN batch ON chemicals.id = batch.chemical_id \n",
        "WHERE batch.component_id = ?\n"
       ]
      },
      {
       "output_type": "stream",
       "stream": "stderr",
       "text": [
        "INFO:sqlalchemy.engine.base.Engine:SELECT chemicals.kind_id AS chemicals_kind_id, chemicals.electrolyte_id AS chemicals_electrolyte_id, chemicals.physical_form_id AS chemicals_physical_form_id, chemicals.id AS chemicals_id, chemicals.name AS chemicals_name, chemicals.formula AS chemicals_formula, chemicals.molwt AS chemicals_molwt, chemicals.short_name AS chemicals_short_name, chemicals.concentration AS chemicals_concentration, chemicals.cas AS chemicals_cas, chemicals.density AS chemicals_density, chemicals.pk AS chemicals_pk, chemicals.smiles AS chemicals_smiles \n",
        "FROM chemicals JOIN batch ON chemicals.id = batch.chemical_id \n",
        "WHERE batch.component_id = ?\n"
       ]
      },
      {
       "output_type": "stream",
       "stream": "stdout",
       "text": [
        "2014-12-31 01:01:53,751 INFO sqlalchemy.engine.base.Engine (4,)\n"
       ]
      },
      {
       "output_type": "stream",
       "stream": "stderr",
       "text": [
        "INFO:sqlalchemy.engine.base.Engine:(4,)\n"
       ]
      },
      {
       "output_type": "stream",
       "stream": "stdout",
       "text": [
        "2014-12-31 01:01:53,756 INFO sqlalchemy.engine.base.Engine SELECT chemicals.kind_id AS chemicals_kind_id, chemicals.electrolyte_id AS chemicals_electrolyte_id, chemicals.physical_form_id AS chemicals_physical_form_id, chemicals.id AS chemicals_id, chemicals.name AS chemicals_name, chemicals.formula AS chemicals_formula, chemicals.molwt AS chemicals_molwt, chemicals.short_name AS chemicals_short_name, chemicals.concentration AS chemicals_concentration, chemicals.cas AS chemicals_cas, chemicals.density AS chemicals_density, chemicals.pk AS chemicals_pk, chemicals.smiles AS chemicals_smiles \n",
        "FROM chemicals JOIN batch ON chemicals.id = batch.chemical_id \n",
        "WHERE batch.component_id = ?\n"
       ]
      },
      {
       "output_type": "stream",
       "stream": "stderr",
       "text": [
        "INFO:sqlalchemy.engine.base.Engine:SELECT chemicals.kind_id AS chemicals_kind_id, chemicals.electrolyte_id AS chemicals_electrolyte_id, chemicals.physical_form_id AS chemicals_physical_form_id, chemicals.id AS chemicals_id, chemicals.name AS chemicals_name, chemicals.formula AS chemicals_formula, chemicals.molwt AS chemicals_molwt, chemicals.short_name AS chemicals_short_name, chemicals.concentration AS chemicals_concentration, chemicals.cas AS chemicals_cas, chemicals.density AS chemicals_density, chemicals.pk AS chemicals_pk, chemicals.smiles AS chemicals_smiles \n",
        "FROM chemicals JOIN batch ON chemicals.id = batch.chemical_id \n",
        "WHERE batch.component_id = ?\n"
       ]
      },
      {
       "output_type": "stream",
       "stream": "stdout",
       "text": [
        "2014-12-31 01:01:53,759 INFO sqlalchemy.engine.base.Engine (5,)\n"
       ]
      },
      {
       "output_type": "stream",
       "stream": "stderr",
       "text": [
        "INFO:sqlalchemy.engine.base.Engine:(5,)\n"
       ]
      },
      {
       "output_type": "stream",
       "stream": "stdout",
       "text": [
        "2014-12-31 01:01:53,763 INFO sqlalchemy.engine.base.Engine SELECT chemicals.kind_id AS chemicals_kind_id, chemicals.electrolyte_id AS chemicals_electrolyte_id, chemicals.physical_form_id AS chemicals_physical_form_id, chemicals.id AS chemicals_id, chemicals.name AS chemicals_name, chemicals.formula AS chemicals_formula, chemicals.molwt AS chemicals_molwt, chemicals.short_name AS chemicals_short_name, chemicals.concentration AS chemicals_concentration, chemicals.cas AS chemicals_cas, chemicals.density AS chemicals_density, chemicals.pk AS chemicals_pk, chemicals.smiles AS chemicals_smiles \n",
        "FROM chemicals JOIN batch ON chemicals.id = batch.chemical_id \n",
        "WHERE batch.component_id = ?\n"
       ]
      },
      {
       "output_type": "stream",
       "stream": "stderr",
       "text": [
        "INFO:sqlalchemy.engine.base.Engine:SELECT chemicals.kind_id AS chemicals_kind_id, chemicals.electrolyte_id AS chemicals_electrolyte_id, chemicals.physical_form_id AS chemicals_physical_form_id, chemicals.id AS chemicals_id, chemicals.name AS chemicals_name, chemicals.formula AS chemicals_formula, chemicals.molwt AS chemicals_molwt, chemicals.short_name AS chemicals_short_name, chemicals.concentration AS chemicals_concentration, chemicals.cas AS chemicals_cas, chemicals.density AS chemicals_density, chemicals.pk AS chemicals_pk, chemicals.smiles AS chemicals_smiles \n",
        "FROM chemicals JOIN batch ON chemicals.id = batch.chemical_id \n",
        "WHERE batch.component_id = ?\n"
       ]
      },
      {
       "output_type": "stream",
       "stream": "stdout",
       "text": [
        "2014-12-31 01:01:53,764 INFO sqlalchemy.engine.base.Engine (6,)\n"
       ]
      },
      {
       "output_type": "stream",
       "stream": "stderr",
       "text": [
        "INFO:sqlalchemy.engine.base.Engine:(6,)\n"
       ]
      },
      {
       "output_type": "stream",
       "stream": "stdout",
       "text": [
        "2014-12-31 01:01:53,769 INFO sqlalchemy.engine.base.Engine SELECT batch.id AS batch_id, batch.chemical_id AS batch_chemical_id, batch.component_id AS batch_component_id, batch.reaction_id AS batch_reaction_id, batch.coefficient AS batch_coefficient, components.category_id AS components_category_id, components.id AS components_id, components.name AS components_name, components.formula AS components_formula, components.molwt AS components_molwt, components.short_name AS components_short_name \n",
        "FROM batch, components \n",
        "WHERE batch.chemical_id = ? AND components.id = batch.component_id\n"
       ]
      },
      {
       "output_type": "stream",
       "stream": "stderr",
       "text": [
        "INFO:sqlalchemy.engine.base.Engine:SELECT batch.id AS batch_id, batch.chemical_id AS batch_chemical_id, batch.component_id AS batch_component_id, batch.reaction_id AS batch_reaction_id, batch.coefficient AS batch_coefficient, components.category_id AS components_category_id, components.id AS components_id, components.name AS components_name, components.formula AS components_formula, components.molwt AS components_molwt, components.short_name AS components_short_name \n",
        "FROM batch, components \n",
        "WHERE batch.chemical_id = ? AND components.id = batch.component_id\n"
       ]
      },
      {
       "output_type": "stream",
       "stream": "stdout",
       "text": [
        "2014-12-31 01:01:53,770 INFO sqlalchemy.engine.base.Engine (1,)\n"
       ]
      },
      {
       "output_type": "stream",
       "stream": "stderr",
       "text": [
        "INFO:sqlalchemy.engine.base.Engine:(1,)\n"
       ]
      },
      {
       "output_type": "stream",
       "stream": "stdout",
       "text": [
        "2014-12-31 01:01:53,777 INFO sqlalchemy.engine.base.Engine SELECT kinds.id AS kinds_id, kinds.name AS kinds_name \n",
        "FROM kinds \n",
        "WHERE kinds.id = ?\n"
       ]
      },
      {
       "output_type": "stream",
       "stream": "stderr",
       "text": [
        "INFO:sqlalchemy.engine.base.Engine:SELECT kinds.id AS kinds_id, kinds.name AS kinds_name \n",
        "FROM kinds \n",
        "WHERE kinds.id = ?\n"
       ]
      },
      {
       "output_type": "stream",
       "stream": "stdout",
       "text": [
        "2014-12-31 01:01:53,778 INFO sqlalchemy.engine.base.Engine (2,)\n"
       ]
      },
      {
       "output_type": "stream",
       "stream": "stderr",
       "text": [
        "INFO:sqlalchemy.engine.base.Engine:(2,)\n"
       ]
      },
      {
       "output_type": "stream",
       "stream": "stdout",
       "text": [
        "2014-12-31 01:01:53,782 INFO sqlalchemy.engine.base.Engine SELECT chemicals.kind_id AS chemicals_kind_id, chemicals.electrolyte_id AS chemicals_electrolyte_id, chemicals.physical_form_id AS chemicals_physical_form_id, chemicals.id AS chemicals_id, chemicals.name AS chemicals_name, chemicals.formula AS chemicals_formula, chemicals.molwt AS chemicals_molwt, chemicals.short_name AS chemicals_short_name, chemicals.concentration AS chemicals_concentration, chemicals.cas AS chemicals_cas, chemicals.density AS chemicals_density, chemicals.pk AS chemicals_pk, chemicals.smiles AS chemicals_smiles \n",
        "FROM chemicals \n",
        "WHERE chemicals.formula = ?\n"
       ]
      },
      {
       "output_type": "stream",
       "stream": "stderr",
       "text": [
        "INFO:sqlalchemy.engine.base.Engine:SELECT chemicals.kind_id AS chemicals_kind_id, chemicals.electrolyte_id AS chemicals_electrolyte_id, chemicals.physical_form_id AS chemicals_physical_form_id, chemicals.id AS chemicals_id, chemicals.name AS chemicals_name, chemicals.formula AS chemicals_formula, chemicals.molwt AS chemicals_molwt, chemicals.short_name AS chemicals_short_name, chemicals.concentration AS chemicals_concentration, chemicals.cas AS chemicals_cas, chemicals.density AS chemicals_density, chemicals.pk AS chemicals_pk, chemicals.smiles AS chemicals_smiles \n",
        "FROM chemicals \n",
        "WHERE chemicals.formula = ?\n"
       ]
      },
      {
       "output_type": "stream",
       "stream": "stdout",
       "text": [
        "2014-12-31 01:01:53,783 INFO sqlalchemy.engine.base.Engine ('H2O',)\n"
       ]
      },
      {
       "output_type": "stream",
       "stream": "stderr",
       "text": [
        "INFO:sqlalchemy.engine.base.Engine:('H2O',)\n"
       ]
      },
      {
       "output_type": "stream",
       "stream": "stdout",
       "text": [
        "2014-12-31 01:01:53,788 INFO sqlalchemy.engine.base.Engine SELECT batch.id AS batch_id, batch.chemical_id AS batch_chemical_id, batch.component_id AS batch_component_id, batch.reaction_id AS batch_reaction_id, batch.coefficient AS batch_coefficient, components.category_id AS components_category_id, components.id AS components_id, components.name AS components_name, components.formula AS components_formula, components.molwt AS components_molwt, components.short_name AS components_short_name \n",
        "FROM batch, components \n",
        "WHERE batch.chemical_id = ? AND components.id = batch.component_id\n"
       ]
      },
      {
       "output_type": "stream",
       "stream": "stderr",
       "text": [
        "INFO:sqlalchemy.engine.base.Engine:SELECT batch.id AS batch_id, batch.chemical_id AS batch_chemical_id, batch.component_id AS batch_component_id, batch.reaction_id AS batch_reaction_id, batch.coefficient AS batch_coefficient, components.category_id AS components_category_id, components.id AS components_id, components.name AS components_name, components.formula AS components_formula, components.molwt AS components_molwt, components.short_name AS components_short_name \n",
        "FROM batch, components \n",
        "WHERE batch.chemical_id = ? AND components.id = batch.component_id\n"
       ]
      },
      {
       "output_type": "stream",
       "stream": "stdout",
       "text": [
        "2014-12-31 01:01:53,789 INFO sqlalchemy.engine.base.Engine (2,)\n"
       ]
      },
      {
       "output_type": "stream",
       "stream": "stderr",
       "text": [
        "INFO:sqlalchemy.engine.base.Engine:(2,)\n"
       ]
      },
      {
       "output_type": "stream",
       "stream": "stdout",
       "text": [
        "2014-12-31 01:01:53,793 INFO sqlalchemy.engine.base.Engine SELECT chemicals.kind_id AS chemicals_kind_id, chemicals.electrolyte_id AS chemicals_electrolyte_id, chemicals.physical_form_id AS chemicals_physical_form_id, chemicals.id AS chemicals_id, chemicals.name AS chemicals_name, chemicals.formula AS chemicals_formula, chemicals.molwt AS chemicals_molwt, chemicals.short_name AS chemicals_short_name, chemicals.concentration AS chemicals_concentration, chemicals.cas AS chemicals_cas, chemicals.density AS chemicals_density, chemicals.pk AS chemicals_pk, chemicals.smiles AS chemicals_smiles \n",
        "FROM chemicals \n",
        "WHERE chemicals.formula = ?\n"
       ]
      },
      {
       "output_type": "stream",
       "stream": "stderr",
       "text": [
        "INFO:sqlalchemy.engine.base.Engine:SELECT chemicals.kind_id AS chemicals_kind_id, chemicals.electrolyte_id AS chemicals_electrolyte_id, chemicals.physical_form_id AS chemicals_physical_form_id, chemicals.id AS chemicals_id, chemicals.name AS chemicals_name, chemicals.formula AS chemicals_formula, chemicals.molwt AS chemicals_molwt, chemicals.short_name AS chemicals_short_name, chemicals.concentration AS chemicals_concentration, chemicals.cas AS chemicals_cas, chemicals.density AS chemicals_density, chemicals.pk AS chemicals_pk, chemicals.smiles AS chemicals_smiles \n",
        "FROM chemicals \n",
        "WHERE chemicals.formula = ?\n"
       ]
      },
      {
       "output_type": "stream",
       "stream": "stdout",
       "text": [
        "2014-12-31 01:01:53,794 INFO sqlalchemy.engine.base.Engine ('H2O',)\n"
       ]
      },
      {
       "output_type": "stream",
       "stream": "stderr",
       "text": [
        "INFO:sqlalchemy.engine.base.Engine:('H2O',)\n"
       ]
      },
      {
       "output_type": "stream",
       "stream": "stdout",
       "text": [
        "2014-12-31 01:01:53,798 INFO sqlalchemy.engine.base.Engine SELECT batch.id AS batch_id, batch.chemical_id AS batch_chemical_id, batch.component_id AS batch_component_id, batch.reaction_id AS batch_reaction_id, batch.coefficient AS batch_coefficient, components.category_id AS components_category_id, components.id AS components_id, components.name AS components_name, components.formula AS components_formula, components.molwt AS components_molwt, components.short_name AS components_short_name \n",
        "FROM batch, components \n",
        "WHERE batch.chemical_id = ? AND components.id = batch.component_id\n"
       ]
      },
      {
       "output_type": "stream",
       "stream": "stderr",
       "text": [
        "INFO:sqlalchemy.engine.base.Engine:SELECT batch.id AS batch_id, batch.chemical_id AS batch_chemical_id, batch.component_id AS batch_component_id, batch.reaction_id AS batch_reaction_id, batch.coefficient AS batch_coefficient, components.category_id AS components_category_id, components.id AS components_id, components.name AS components_name, components.formula AS components_formula, components.molwt AS components_molwt, components.short_name AS components_short_name \n",
        "FROM batch, components \n",
        "WHERE batch.chemical_id = ? AND components.id = batch.component_id\n"
       ]
      },
      {
       "output_type": "stream",
       "stream": "stdout",
       "text": [
        "2014-12-31 01:01:53,799 INFO sqlalchemy.engine.base.Engine (5,)\n"
       ]
      },
      {
       "output_type": "stream",
       "stream": "stderr",
       "text": [
        "INFO:sqlalchemy.engine.base.Engine:(5,)\n"
       ]
      },
      {
       "output_type": "stream",
       "stream": "stdout",
       "text": [
        "2014-12-31 01:01:53,803 INFO sqlalchemy.engine.base.Engine SELECT kinds.id AS kinds_id, kinds.name AS kinds_name \n",
        "FROM kinds \n",
        "WHERE kinds.id = ?\n"
       ]
      },
      {
       "output_type": "stream",
       "stream": "stderr",
       "text": [
        "INFO:sqlalchemy.engine.base.Engine:SELECT kinds.id AS kinds_id, kinds.name AS kinds_name \n",
        "FROM kinds \n",
        "WHERE kinds.id = ?\n"
       ]
      },
      {
       "output_type": "stream",
       "stream": "stdout",
       "text": [
        "2014-12-31 01:01:53,804 INFO sqlalchemy.engine.base.Engine (3,)\n"
       ]
      },
      {
       "output_type": "stream",
       "stream": "stderr",
       "text": [
        "INFO:sqlalchemy.engine.base.Engine:(3,)\n"
       ]
      },
      {
       "output_type": "stream",
       "stream": "stdout",
       "text": [
        "2014-12-31 01:01:53,807 INFO sqlalchemy.engine.base.Engine SELECT batch.id AS batch_id, batch.chemical_id AS batch_chemical_id, batch.component_id AS batch_component_id, batch.reaction_id AS batch_reaction_id, batch.coefficient AS batch_coefficient, components.category_id AS components_category_id, components.id AS components_id, components.name AS components_name, components.formula AS components_formula, components.molwt AS components_molwt, components.short_name AS components_short_name \n",
        "FROM batch, components \n",
        "WHERE batch.chemical_id = ? AND components.id = batch.component_id\n"
       ]
      },
      {
       "output_type": "stream",
       "stream": "stderr",
       "text": [
        "INFO:sqlalchemy.engine.base.Engine:SELECT batch.id AS batch_id, batch.chemical_id AS batch_chemical_id, batch.component_id AS batch_component_id, batch.reaction_id AS batch_reaction_id, batch.coefficient AS batch_coefficient, components.category_id AS components_category_id, components.id AS components_id, components.name AS components_name, components.formula AS components_formula, components.molwt AS components_molwt, components.short_name AS components_short_name \n",
        "FROM batch, components \n",
        "WHERE batch.chemical_id = ? AND components.id = batch.component_id\n"
       ]
      },
      {
       "output_type": "stream",
       "stream": "stdout",
       "text": [
        "2014-12-31 01:01:53,808 INFO sqlalchemy.engine.base.Engine (9,)\n"
       ]
      },
      {
       "output_type": "stream",
       "stream": "stderr",
       "text": [
        "INFO:sqlalchemy.engine.base.Engine:(9,)\n"
       ]
      },
      {
       "output_type": "stream",
       "stream": "stdout",
       "text": [
        "2014-12-31 01:01:53,812 INFO sqlalchemy.engine.base.Engine SELECT batch.id AS batch_id, batch.chemical_id AS batch_chemical_id, batch.component_id AS batch_component_id, batch.reaction_id AS batch_reaction_id, batch.coefficient AS batch_coefficient, components.category_id AS components_category_id, components.id AS components_id, components.name AS components_name, components.formula AS components_formula, components.molwt AS components_molwt, components.short_name AS components_short_name \n",
        "FROM batch, components \n",
        "WHERE batch.chemical_id = ? AND components.id = batch.component_id\n"
       ]
      },
      {
       "output_type": "stream",
       "stream": "stderr",
       "text": [
        "INFO:sqlalchemy.engine.base.Engine:SELECT batch.id AS batch_id, batch.chemical_id AS batch_chemical_id, batch.component_id AS batch_component_id, batch.reaction_id AS batch_reaction_id, batch.coefficient AS batch_coefficient, components.category_id AS components_category_id, components.id AS components_id, components.name AS components_name, components.formula AS components_formula, components.molwt AS components_molwt, components.short_name AS components_short_name \n",
        "FROM batch, components \n",
        "WHERE batch.chemical_id = ? AND components.id = batch.component_id\n"
       ]
      },
      {
       "output_type": "stream",
       "stream": "stdout",
       "text": [
        "2014-12-31 01:01:53,813 INFO sqlalchemy.engine.base.Engine (10,)\n"
       ]
      },
      {
       "output_type": "stream",
       "stream": "stderr",
       "text": [
        "INFO:sqlalchemy.engine.base.Engine:(10,)\n"
       ]
      },
      {
       "output_type": "stream",
       "stream": "stdout",
       "text": [
        "2014-12-31 01:01:53,817 INFO sqlalchemy.engine.base.Engine SELECT batch.id AS batch_id, batch.chemical_id AS batch_chemical_id, batch.component_id AS batch_component_id, batch.reaction_id AS batch_reaction_id, batch.coefficient AS batch_coefficient, components.category_id AS components_category_id, components.id AS components_id, components.name AS components_name, components.formula AS components_formula, components.molwt AS components_molwt, components.short_name AS components_short_name \n",
        "FROM batch, components \n",
        "WHERE batch.chemical_id = ? AND components.id = batch.component_id\n"
       ]
      },
      {
       "output_type": "stream",
       "stream": "stderr",
       "text": [
        "INFO:sqlalchemy.engine.base.Engine:SELECT batch.id AS batch_id, batch.chemical_id AS batch_chemical_id, batch.component_id AS batch_component_id, batch.reaction_id AS batch_reaction_id, batch.coefficient AS batch_coefficient, components.category_id AS components_category_id, components.id AS components_id, components.name AS components_name, components.formula AS components_formula, components.molwt AS components_molwt, components.short_name AS components_short_name \n",
        "FROM batch, components \n",
        "WHERE batch.chemical_id = ? AND components.id = batch.component_id\n"
       ]
      },
      {
       "output_type": "stream",
       "stream": "stdout",
       "text": [
        "2014-12-31 01:01:53,818 INFO sqlalchemy.engine.base.Engine (11,)\n"
       ]
      },
      {
       "output_type": "stream",
       "stream": "stderr",
       "text": [
        "INFO:sqlalchemy.engine.base.Engine:(11,)\n"
       ]
      }
     ],
     "prompt_number": 28
    },
    {
     "cell_type": "code",
     "collapsed": false,
     "input": [
      "bc.print_A()"
     ],
     "language": "python",
     "metadata": {},
     "outputs": [
      {
       "output_type": "stream",
       "stream": "stdout",
       "text": [
        "\n",
        "     ************  Composition Vector [C]  ************\n",
        "\n",
        "         Formula       |     Moles     |   Mass [g]    \n",
        "     --------------------------------------------------\n",
        "         sodium oxide  |         8.0000|       495.8315\n",
        "      potassium oxide  |         1.7000|       160.1332\n",
        "      aluminium oxide  |         1.0000|       101.9613\n",
        "     silicone dioxide  |        24.0000|      1442.0232\n",
        "                water  |       410.0000|      7386.2320\n",
        "                TMACl  |         1.7000|       186.3175\n"
       ]
      }
     ],
     "prompt_number": 29
    },
    {
     "cell_type": "code",
     "collapsed": false,
     "input": [
      "[(x.name, x.concentration) for x in bc.chemicals]"
     ],
     "language": "python",
     "metadata": {},
     "outputs": [
      {
       "metadata": {},
       "output_type": "pyout",
       "prompt_number": 24,
       "text": [
        "[(u'sodium hydroxide', 0.98),\n",
        " (u'potassium hydroxide', 0.85),\n",
        " (u'aluminium isopropoxide', 0.98),\n",
        " (u'fumed silica', 1.0),\n",
        " (u'water', 1.0),\n",
        " (u'tetramethylammonium chloride', 0.98)]"
       ]
      }
     ],
     "prompt_number": 24
    },
    {
     "cell_type": "code",
     "collapsed": false,
     "input": [
      "bc.print_batch_matrix()"
     ],
     "language": "python",
     "metadata": {},
     "outputs": [
      {
       "output_type": "stream",
       "stream": "stdout",
       "text": [
        "\n",
        "       **********************************************************  Batch Matrix [B]  **********************************************************\n",
        "\n",
        "                           sodium oxide    |  potassium oxide  |  aluminium oxide  | silicone dioxide  |       water       |       TMACl       \n",
        "                       ------------------------------------------------------------------------------------------------------------------------\n",
        "     sodium hydroxide  |         0.7593    |         0.0000    |         0.0000    |         0.0000    |         0.2407    |         0.0000    \n",
        "     potassium hydroxide  |         0.0000    |         0.7135    |         0.0000    |         0.0000    |         0.2865    |         0.0000    \n",
        "            Al(iPrO)3  |         0.0000    |         0.0000    |         0.2496    |         0.0000    |        -0.1323    |         0.0000    \n",
        "         fumed silica  |         0.0000    |         0.0000    |         0.0000    |         1.0000    |         0.0000    |         0.0000    \n",
        "                water  |         0.0000    |         0.0000    |         0.0000    |         0.0000    |         1.0000    |         0.0000    \n",
        "                TMACl  |         0.0000    |         0.0000    |         0.0000    |         0.0000    |         0.0000    |         1.0000    \n"
       ]
      }
     ],
     "prompt_number": 25
    },
    {
     "cell_type": "code",
     "collapsed": false,
     "input": [
      "[(x.name, x.mass) for x in bc.chemicals]"
     ],
     "language": "python",
     "metadata": {},
     "outputs": [
      {
       "metadata": {},
       "output_type": "pyout",
       "prompt_number": 30,
       "text": [
        "[(u'sodium hydroxide', 653.01338775510214),\n",
        " (u'potassium hydroxide', 224.42239999999998),\n",
        " (u'aluminium isopropoxide', 416.82579591836736),\n",
        " (u'fumed silica', 1442.0232000000001),\n",
        " (u'water', 7218.8065322448983),\n",
        " (u'tetramethylammonium chloride', 190.11984693877551)]"
       ]
      }
     ],
     "prompt_number": 30
    },
    {
     "cell_type": "code",
     "collapsed": false,
     "input": [
      "data = [['Compound']+[c.name for c in bc.components],\n",
      "        ['Mole ratio']+[c.moles for c in bc.components],\n",
      "        ['Weight [g]']+[c.mass for c in bc.components],\n",
      "        ['Mol. wt. [g/mol]']+[c.molwt for x in bc.components]]"
     ],
     "language": "python",
     "metadata": {},
     "outputs": [],
     "prompt_number": 35
    },
    {
     "cell_type": "code",
     "collapsed": false,
     "input": [
      "data"
     ],
     "language": "python",
     "metadata": {},
     "outputs": [
      {
       "metadata": {},
       "output_type": "pyout",
       "prompt_number": 36,
       "text": [
        "[['Compound',\n",
        "  u'sodium oxide',\n",
        "  u'potassium oxide',\n",
        "  u'aluminium oxide',\n",
        "  u'silicone dioxide',\n",
        "  u'water',\n",
        "  u'tetramethylammonium chloride'],\n",
        " ['Mole ratio', 8.0, 1.7, 1.0, 24.0, 410.0, 1.7],\n",
        " ['Weight [g]',\n",
        "  495.83152,\n",
        "  160.1332,\n",
        "  101.96128,\n",
        "  1442.0232,\n",
        "  7386.232,\n",
        "  186.31745],\n",
        " ['Mol. wt. [g/mol]',\n",
        "  109.5985,\n",
        "  109.5985,\n",
        "  109.5985,\n",
        "  109.5985,\n",
        "  109.5985,\n",
        "  109.5985]]"
       ]
      }
     ],
     "prompt_number": 36
    },
    {
     "cell_type": "code",
     "collapsed": false,
     "input": [],
     "language": "python",
     "metadata": {},
     "outputs": []
    }
   ],
   "metadata": {}
  }
 ]
}